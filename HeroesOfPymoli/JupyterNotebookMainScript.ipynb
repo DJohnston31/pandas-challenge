{
 "cells": [
  {
   "cell_type": "code",
   "execution_count": 232,
   "metadata": {},
   "outputs": [],
   "source": [
    "# Dependencies and Setup\n",
    "import pandas as pd\n",
    "\n",
    "# Load File\n",
    "file_to_load = \"purchase_data.csv\"\n",
    "\n",
    "# Read Purchasing File and store into Pandas data frame\n",
    "purchase_data_df = pd.read_csv(file_to_load)\n",
    "\n",
    "# Display top 5 rows of dataframe for reference\n",
    "# purchase_data_df.head()"
   ]
  },
  {
   "cell_type": "code",
   "execution_count": 233,
   "metadata": {},
   "outputs": [],
   "source": [
    "# # Display a statistical overview of the DataFrame for reference\n",
    "# purchase_data_df.describe()"
   ]
  },
  {
   "cell_type": "code",
   "execution_count": 234,
   "metadata": {},
   "outputs": [],
   "source": [
    "# # Check to see if there are any incomplete rows\n",
    "# purchase_data_df.count()"
   ]
  },
  {
   "cell_type": "code",
   "execution_count": 235,
   "metadata": {},
   "outputs": [],
   "source": [
    "# # Reference the Length of the unique values in the SN Column. Value_counts method counts unique values in a column\n",
    "# TotalPlayers = purchase_data_df[\"SN\"].value_counts()\n",
    "# TotalPlayers"
   ]
  },
  {
   "cell_type": "code",
   "execution_count": 236,
   "metadata": {},
   "outputs": [],
   "source": [
    "# # Calculate the Total Number of Unique Players in the DataFrame\n",
    "# player_count = len(purchase_data_df[\"SN\"].unique())\n",
    "# player_count"
   ]
  },
  {
   "cell_type": "code",
   "execution_count": 237,
   "metadata": {},
   "outputs": [
    {
     "data": {
      "text/html": [
       "<div>\n",
       "<style scoped>\n",
       "    .dataframe tbody tr th:only-of-type {\n",
       "        vertical-align: middle;\n",
       "    }\n",
       "\n",
       "    .dataframe tbody tr th {\n",
       "        vertical-align: top;\n",
       "    }\n",
       "\n",
       "    .dataframe thead th {\n",
       "        text-align: right;\n",
       "    }\n",
       "</style>\n",
       "<table border=\"1\" class=\"dataframe\">\n",
       "  <thead>\n",
       "    <tr style=\"text-align: right;\">\n",
       "      <th></th>\n",
       "      <th>Total Players</th>\n",
       "    </tr>\n",
       "  </thead>\n",
       "  <tbody>\n",
       "    <tr>\n",
       "      <th>0</th>\n",
       "      <td>576</td>\n",
       "    </tr>\n",
       "  </tbody>\n",
       "</table>\n",
       "</div>"
      ],
      "text/plain": [
       "   Total Players\n",
       "0            576"
      ]
     },
     "execution_count": 237,
     "metadata": {},
     "output_type": "execute_result"
    }
   ],
   "source": [
    "# PLAYER COUNT- TOTAL NUMBER OF PLAYERS: Create a DataFrame to display the Total Number of Players\n",
    "player_count_df = pd.DataFrame(\n",
    "    {\"Total Players\": [player_count],\n",
    "     })\n",
    "\n",
    "player_count_df"
   ]
  },
  {
   "cell_type": "code",
   "execution_count": 238,
   "metadata": {},
   "outputs": [
    {
     "data": {
      "text/plain": [
       "183"
      ]
     },
     "execution_count": 238,
     "metadata": {},
     "output_type": "execute_result"
    }
   ],
   "source": [
    "# PURCHASING ANALYSIS (TOTAL)\n",
    "\n",
    "# Number of Unique Items: The value_counts method counts unique values in a column\n",
    "unique_items = len(purchase_data_df[\"Item ID\"].unique())\n",
    "unique_items"
   ]
  },
  {
   "cell_type": "code",
   "execution_count": 239,
   "metadata": {},
   "outputs": [
    {
     "data": {
      "text/plain": [
       "3.050987179487176"
      ]
     },
     "execution_count": 239,
     "metadata": {},
     "output_type": "execute_result"
    }
   ],
   "source": [
    "# Average Purchase Price: The mean method averages the series\n",
    "average_purchase_price = purchase_data_df[\"Price\"].mean()\n",
    "average_purchase_price\n"
   ]
  },
  {
   "cell_type": "code",
   "execution_count": 240,
   "metadata": {},
   "outputs": [
    {
     "data": {
      "text/plain": [
       "780"
      ]
     },
     "execution_count": 240,
     "metadata": {},
     "output_type": "execute_result"
    }
   ],
   "source": [
    "# Total Number of Purchases: The value_counts method counts unique values in a column\n",
    "Number_of_Purchases = len(purchase_data_df[\"Purchase ID\"].unique())\n",
    "Number_of_Purchases"
   ]
  },
  {
   "cell_type": "code",
   "execution_count": 241,
   "metadata": {},
   "outputs": [
    {
     "data": {
      "text/plain": [
       "2379.77"
      ]
     },
     "execution_count": 241,
     "metadata": {},
     "output_type": "execute_result"
    }
   ],
   "source": [
    "# Total Revenue\n",
    "Total_Revenue = purchase_data_df[\"Price\"].sum()\n",
    "Total_Revenue"
   ]
  },
  {
   "cell_type": "code",
   "execution_count": 242,
   "metadata": {},
   "outputs": [
    {
     "data": {
      "text/html": [
       "<div>\n",
       "<style scoped>\n",
       "    .dataframe tbody tr th:only-of-type {\n",
       "        vertical-align: middle;\n",
       "    }\n",
       "\n",
       "    .dataframe tbody tr th {\n",
       "        vertical-align: top;\n",
       "    }\n",
       "\n",
       "    .dataframe thead th {\n",
       "        text-align: right;\n",
       "    }\n",
       "</style>\n",
       "<table border=\"1\" class=\"dataframe\">\n",
       "  <thead>\n",
       "    <tr style=\"text-align: right;\">\n",
       "      <th></th>\n",
       "      <th>Number of Unique Items</th>\n",
       "      <th>Average Price</th>\n",
       "      <th>Number of Purchases</th>\n",
       "      <th>Total Revenue</th>\n",
       "    </tr>\n",
       "  </thead>\n",
       "  <tbody>\n",
       "    <tr>\n",
       "      <th>0</th>\n",
       "      <td>183</td>\n",
       "      <td>3.050987</td>\n",
       "      <td>780</td>\n",
       "      <td>2379.77</td>\n",
       "    </tr>\n",
       "  </tbody>\n",
       "</table>\n",
       "</div>"
      ],
      "text/plain": [
       "   Number of Unique Items  Average Price  Number of Purchases  Total Revenue\n",
       "0                     183       3.050987                  780        2379.77"
      ]
     },
     "execution_count": 242,
     "metadata": {},
     "output_type": "execute_result"
    }
   ],
   "source": [
    "# Create a summary data frame to hold the results\n",
    "\n",
    "Purchasing_Analysis_df = pd.DataFrame(\n",
    "    {\"Number of Unique Items\": [unique_items],\n",
    "     \"Average Price\": [average_purchase_price],\n",
    "     \"Number of Purchases\": [Number_of_Purchases],\n",
    "     \"Total Revenue\": [Total_Revenue]\n",
    "     })\n",
    "\n",
    "# Display the summary data frame\n",
    "\n",
    "Purchasing_Analysis_df"
   ]
  },
  {
   "cell_type": "code",
   "execution_count": 243,
   "metadata": {},
   "outputs": [
    {
     "data": {
      "text/html": [
       "<div>\n",
       "<style scoped>\n",
       "    .dataframe tbody tr th:only-of-type {\n",
       "        vertical-align: middle;\n",
       "    }\n",
       "\n",
       "    .dataframe tbody tr th {\n",
       "        vertical-align: top;\n",
       "    }\n",
       "\n",
       "    .dataframe thead th {\n",
       "        text-align: right;\n",
       "    }\n",
       "</style>\n",
       "<table border=\"1\" class=\"dataframe\">\n",
       "  <thead>\n",
       "    <tr style=\"text-align: right;\">\n",
       "      <th></th>\n",
       "      <th>Number of Unique Items</th>\n",
       "      <th>Average Price</th>\n",
       "      <th>Number of Purchases</th>\n",
       "      <th>Total Revenue</th>\n",
       "    </tr>\n",
       "  </thead>\n",
       "  <tbody>\n",
       "    <tr>\n",
       "      <th>0</th>\n",
       "      <td>183</td>\n",
       "      <td>$3.05</td>\n",
       "      <td>780</td>\n",
       "      <td>$2,379.77</td>\n",
       "    </tr>\n",
       "  </tbody>\n",
       "</table>\n",
       "</div>"
      ],
      "text/plain": [
       "   Number of Unique Items Average Price  Number of Purchases Total Revenue\n",
       "0                     183         $3.05                  780     $2,379.77"
      ]
     },
     "execution_count": 243,
     "metadata": {},
     "output_type": "execute_result"
    }
   ],
   "source": [
    "# Optional: give the displayed data cleaner formatting: Use Map to format all the columns\n",
    "\n",
    "Purchasing_Analysis_Formatted_df = Purchasing_Analysis_df\n",
    "\n",
    "Purchasing_Analysis_Formatted_df[\"Average Price\"] = Purchasing_Analysis_df[\"Average Price\"].map(\"${:.2f}\".format)\n",
    "Purchasing_Analysis_Formatted_df[\"Total Revenue\"] = Purchasing_Analysis_df[\"Total Revenue\"].map(\"${:,.2f}\".format)\n",
    "\n",
    "Purchasing_Analysis_Formatted_df"
   ]
  },
  {
   "cell_type": "code",
   "execution_count": 244,
   "metadata": {},
   "outputs": [],
   "source": [
    "# # GENDER DEMOGRAPHICS\n",
    "\n",
    "# # Evaluate the unique values in the Gender Column for refernece\n",
    "\n",
    "# uniquevaluesingendercolumn = purchase_data_df[\"Gender\"].unique()\n",
    "# uniquevaluesingendercolumn\n"
   ]
  },
  {
   "cell_type": "code",
   "execution_count": 245,
   "metadata": {},
   "outputs": [],
   "source": [
    "# Filter the data so that only Males are in a DataFrame\n",
    "\n",
    "male_purchase_data_df = purchase_data_df.loc[purchase_data_df[\"Gender\"] == \"Male\", :]\n",
    "# male_purchase_data_df.head()\n",
    "\n"
   ]
  },
  {
   "cell_type": "code",
   "execution_count": 246,
   "metadata": {},
   "outputs": [
    {
     "data": {
      "text/plain": [
       "484"
      ]
     },
     "execution_count": 246,
     "metadata": {},
     "output_type": "execute_result"
    }
   ],
   "source": [
    "# Calculate the Total Number of Unique Male Players in the DataFrame\n",
    "male_player_count = len(male_purchase_data_df[\"SN\"].unique())\n",
    "male_player_count"
   ]
  },
  {
   "cell_type": "code",
   "execution_count": 247,
   "metadata": {},
   "outputs": [
    {
     "data": {
      "text/plain": [
       "0.8402777777777778"
      ]
     },
     "execution_count": 247,
     "metadata": {},
     "output_type": "execute_result"
    }
   ],
   "source": [
    "# Calculate the Percentage of Male Players\n",
    "\n",
    "PercentageMalePlayers = male_player_count / player_count\n",
    "PercentageMalePlayers"
   ]
  },
  {
   "cell_type": "code",
   "execution_count": 248,
   "metadata": {},
   "outputs": [],
   "source": [
    "# Filter the data so that only Females are in a DataFrame\n",
    "\n",
    "female_purchase_data_df = purchase_data_df.loc[purchase_data_df[\"Gender\"] == \"Female\", :]\n",
    "# female_purchase_data_df.head()"
   ]
  },
  {
   "cell_type": "code",
   "execution_count": 249,
   "metadata": {},
   "outputs": [
    {
     "data": {
      "text/plain": [
       "81"
      ]
     },
     "execution_count": 249,
     "metadata": {},
     "output_type": "execute_result"
    }
   ],
   "source": [
    "# Calculate the Total Number of Unique Female Players in the DataFrame\n",
    "female_player_count = len(female_purchase_data_df[\"SN\"].unique())\n",
    "female_player_count"
   ]
  },
  {
   "cell_type": "code",
   "execution_count": 250,
   "metadata": {},
   "outputs": [
    {
     "data": {
      "text/plain": [
       "0.140625"
      ]
     },
     "execution_count": 250,
     "metadata": {},
     "output_type": "execute_result"
    }
   ],
   "source": [
    "# Calculate the Percentage of Female Players\n",
    "\n",
    "PercentageFemalePlayers = female_player_count / player_count\n",
    "PercentageFemalePlayers"
   ]
  },
  {
   "cell_type": "code",
   "execution_count": 251,
   "metadata": {},
   "outputs": [],
   "source": [
    "# Filter the data so that only Other / Non-Disclosed Players are in a DataFrame\n",
    "\n",
    "othernondisclosed_purchase_data_df = purchase_data_df.loc[purchase_data_df[\"Gender\"] == \"Other / Non-Disclosed\", :]\n",
    "# othernondisclosed_purchase_data_df.head()"
   ]
  },
  {
   "cell_type": "code",
   "execution_count": 252,
   "metadata": {},
   "outputs": [
    {
     "data": {
      "text/plain": [
       "11"
      ]
     },
     "execution_count": 252,
     "metadata": {},
     "output_type": "execute_result"
    }
   ],
   "source": [
    "# Calculate the Total Number of Unique Other / Non-Disclosed Players in the DataFrame\n",
    "othernondisclosed_player_count = len(othernondisclosed_purchase_data_df[\"SN\"].unique())\n",
    "othernondisclosed_player_count"
   ]
  },
  {
   "cell_type": "code",
   "execution_count": 253,
   "metadata": {},
   "outputs": [
    {
     "data": {
      "text/plain": [
       "0.019097222222222224"
      ]
     },
     "execution_count": 253,
     "metadata": {},
     "output_type": "execute_result"
    }
   ],
   "source": [
    "# Calculate the Percentage of Unique Other / Non-Disclosed Players\n",
    "\n",
    "PercentageOtherNonDisclosedPlayers = othernondisclosed_player_count / player_count\n",
    "PercentageOtherNonDisclosedPlayers"
   ]
  },
  {
   "cell_type": "code",
   "execution_count": 254,
   "metadata": {},
   "outputs": [
    {
     "data": {
      "text/html": [
       "<div>\n",
       "<style scoped>\n",
       "    .dataframe tbody tr th:only-of-type {\n",
       "        vertical-align: middle;\n",
       "    }\n",
       "\n",
       "    .dataframe tbody tr th {\n",
       "        vertical-align: top;\n",
       "    }\n",
       "\n",
       "    .dataframe thead th {\n",
       "        text-align: right;\n",
       "    }\n",
       "</style>\n",
       "<table border=\"1\" class=\"dataframe\">\n",
       "  <thead>\n",
       "    <tr style=\"text-align: right;\">\n",
       "      <th></th>\n",
       "      <th>Total Count</th>\n",
       "      <th>Percentage of Players</th>\n",
       "    </tr>\n",
       "    <tr>\n",
       "      <th>Gender</th>\n",
       "      <th></th>\n",
       "      <th></th>\n",
       "    </tr>\n",
       "  </thead>\n",
       "  <tbody>\n",
       "    <tr>\n",
       "      <th>Male</th>\n",
       "      <td>484</td>\n",
       "      <td>84.027778</td>\n",
       "    </tr>\n",
       "    <tr>\n",
       "      <th>Female</th>\n",
       "      <td>81</td>\n",
       "      <td>14.062500</td>\n",
       "    </tr>\n",
       "    <tr>\n",
       "      <th>Other / Non-Disclosed</th>\n",
       "      <td>11</td>\n",
       "      <td>1.909722</td>\n",
       "    </tr>\n",
       "  </tbody>\n",
       "</table>\n",
       "</div>"
      ],
      "text/plain": [
       "                       Total Count  Percentage of Players\n",
       "Gender                                                   \n",
       "Male                           484              84.027778\n",
       "Female                          81              14.062500\n",
       "Other / Non-Disclosed           11               1.909722"
      ]
     },
     "execution_count": 254,
     "metadata": {},
     "output_type": "execute_result"
    }
   ],
   "source": [
    "# Create a summary data frame to hold the Gender Demographics Analysis results\n",
    "\n",
    "# Create a DataFrame of Gender Breakdown using a list of dictionaries\n",
    "GenderAnalysis_df = pd.DataFrame([\n",
    "    {\"Gender\": \"Male\", \"Total Count\": male_player_count, \"Percentage of Players\": PercentageMalePlayers*100},\n",
    "    {\"Gender\": \"Female\", \"Total Count\": female_player_count, \"Percentage of Players\": PercentageFemalePlayers*100},\n",
    "    {\"Gender\": \"Other / Non-Disclosed\", \"Total Count\": othernondisclosed_player_count, \"Percentage of Players\": PercentageOtherNonDisclosedPlayers*100},\n",
    "]).set_index(\"Gender\")\n",
    "GenderAnalysis_df"
   ]
  },
  {
   "cell_type": "code",
   "execution_count": 255,
   "metadata": {},
   "outputs": [
    {
     "data": {
      "text/html": [
       "<div>\n",
       "<style scoped>\n",
       "    .dataframe tbody tr th:only-of-type {\n",
       "        vertical-align: middle;\n",
       "    }\n",
       "\n",
       "    .dataframe tbody tr th {\n",
       "        vertical-align: top;\n",
       "    }\n",
       "\n",
       "    .dataframe thead th {\n",
       "        text-align: right;\n",
       "    }\n",
       "</style>\n",
       "<table border=\"1\" class=\"dataframe\">\n",
       "  <thead>\n",
       "    <tr style=\"text-align: right;\">\n",
       "      <th></th>\n",
       "      <th>Total Count</th>\n",
       "      <th>Percentage of Players</th>\n",
       "    </tr>\n",
       "    <tr>\n",
       "      <th>Gender</th>\n",
       "      <th></th>\n",
       "      <th></th>\n",
       "    </tr>\n",
       "  </thead>\n",
       "  <tbody>\n",
       "    <tr>\n",
       "      <th>Male</th>\n",
       "      <td>484</td>\n",
       "      <td>84.03%</td>\n",
       "    </tr>\n",
       "    <tr>\n",
       "      <th>Female</th>\n",
       "      <td>81</td>\n",
       "      <td>14.06%</td>\n",
       "    </tr>\n",
       "    <tr>\n",
       "      <th>Other / Non-Disclosed</th>\n",
       "      <td>11</td>\n",
       "      <td>1.91%</td>\n",
       "    </tr>\n",
       "  </tbody>\n",
       "</table>\n",
       "</div>"
      ],
      "text/plain": [
       "                       Total Count Percentage of Players\n",
       "Gender                                                  \n",
       "Male                           484                84.03%\n",
       "Female                          81                14.06%\n",
       "Other / Non-Disclosed           11                 1.91%"
      ]
     },
     "execution_count": 255,
     "metadata": {},
     "output_type": "execute_result"
    }
   ],
   "source": [
    "# Optional: give the displayed data cleaner formatting: Use Map to format all the columns\n",
    "\n",
    "GenderAnalysis_Formatted_df = GenderAnalysis_df\n",
    "\n",
    "GenderAnalysis_Formatted_df[\"Percentage of Players\"] = GenderAnalysis_df[\"Percentage of Players\"].map(\"{:.2f}%\".format)\n",
    "\n",
    "GenderAnalysis_Formatted_df"
   ]
  },
  {
   "cell_type": "code",
   "execution_count": 256,
   "metadata": {},
   "outputs": [
    {
     "data": {
      "text/plain": [
       "652"
      ]
     },
     "execution_count": 256,
     "metadata": {},
     "output_type": "execute_result"
    }
   ],
   "source": [
    "# PURCHASING ANALYSIS (Gender)\n",
    "# Run basic calculations to obtain purchase count, avg. purchase price, avg. purchase total per person etc. by male\n",
    "\n",
    "# Number of Unique Purchases from Males: The value_counts method counts unique values in a column\n",
    "unique_purchases_male = len(male_purchase_data_df[\"Purchase ID\"].unique())\n",
    "unique_purchases_male\n"
   ]
  },
  {
   "cell_type": "code",
   "execution_count": 257,
   "metadata": {},
   "outputs": [
    {
     "data": {
      "text/plain": [
       "3.0178527607361953"
      ]
     },
     "execution_count": 257,
     "metadata": {},
     "output_type": "execute_result"
    }
   ],
   "source": [
    "# Average Purchase Price from Males: The mean method averages the series\n",
    "average_purchase_price_male = male_purchase_data_df[\"Price\"].mean()\n",
    "average_purchase_price_male"
   ]
  },
  {
   "cell_type": "code",
   "execution_count": 258,
   "metadata": {},
   "outputs": [
    {
     "data": {
      "text/plain": [
       "1967.64"
      ]
     },
     "execution_count": 258,
     "metadata": {},
     "output_type": "execute_result"
    }
   ],
   "source": [
    "# Total Purchase Value from Males\n",
    "Total_Revenue_Male = male_purchase_data_df[\"Price\"].sum()\n",
    "Total_Revenue_Male"
   ]
  },
  {
   "cell_type": "code",
   "execution_count": 259,
   "metadata": {},
   "outputs": [
    {
     "data": {
      "text/plain": [
       "4.065371900826446"
      ]
     },
     "execution_count": 259,
     "metadata": {},
     "output_type": "execute_result"
    }
   ],
   "source": [
    "# Average Total Purchase per Male Person\n",
    "average_purchase_per_male = Total_Revenue_Male / male_player_count\n",
    "average_purchase_per_male"
   ]
  },
  {
   "cell_type": "code",
   "execution_count": 260,
   "metadata": {},
   "outputs": [
    {
     "data": {
      "text/plain": [
       "113"
      ]
     },
     "execution_count": 260,
     "metadata": {},
     "output_type": "execute_result"
    }
   ],
   "source": [
    "# Number of Unique Purchases from Females: The value_counts method counts unique values in a column\n",
    "unique_purchases_female = len(female_purchase_data_df[\"Purchase ID\"].unique())\n",
    "unique_purchases_female"
   ]
  },
  {
   "cell_type": "code",
   "execution_count": 261,
   "metadata": {},
   "outputs": [
    {
     "data": {
      "text/plain": [
       "3.203008849557519"
      ]
     },
     "execution_count": 261,
     "metadata": {},
     "output_type": "execute_result"
    }
   ],
   "source": [
    "# Average Purchase Price from Females: The mean method averages the series\n",
    "average_purchase_price_female = female_purchase_data_df[\"Price\"].mean()\n",
    "average_purchase_price_female"
   ]
  },
  {
   "cell_type": "code",
   "execution_count": 262,
   "metadata": {},
   "outputs": [
    {
     "data": {
      "text/plain": [
       "361.94"
      ]
     },
     "execution_count": 262,
     "metadata": {},
     "output_type": "execute_result"
    }
   ],
   "source": [
    "# Total Purchase Value from Females\n",
    "Total_Revenue_Female = female_purchase_data_df[\"Price\"].sum()\n",
    "Total_Revenue_Female"
   ]
  },
  {
   "cell_type": "code",
   "execution_count": 263,
   "metadata": {},
   "outputs": [
    {
     "data": {
      "text/plain": [
       "4.468395061728395"
      ]
     },
     "execution_count": 263,
     "metadata": {},
     "output_type": "execute_result"
    }
   ],
   "source": [
    "# Average Total Purchase per Female Person\n",
    "average_purchase_per_female = Total_Revenue_Female / female_player_count\n",
    "average_purchase_per_female"
   ]
  },
  {
   "cell_type": "code",
   "execution_count": 264,
   "metadata": {},
   "outputs": [
    {
     "data": {
      "text/plain": [
       "15"
      ]
     },
     "execution_count": 264,
     "metadata": {},
     "output_type": "execute_result"
    }
   ],
   "source": [
    "# Number of Unique Purchases from OtherNon-Disclosed: The value_counts method counts unique values in a column\n",
    "unique_purchases_othernondisclosed = len(othernondisclosed_purchase_data_df[\"Purchase ID\"].unique())\n",
    "unique_purchases_othernondisclosed"
   ]
  },
  {
   "cell_type": "code",
   "execution_count": 265,
   "metadata": {},
   "outputs": [
    {
     "data": {
      "text/plain": [
       "3.3460000000000005"
      ]
     },
     "execution_count": 265,
     "metadata": {},
     "output_type": "execute_result"
    }
   ],
   "source": [
    "# Average Purchase Price from othernondisclosed: The mean method averages the series\n",
    "average_purchase_price_othernondisclosed = othernondisclosed_purchase_data_df[\"Price\"].mean()\n",
    "average_purchase_price_othernondisclosed"
   ]
  },
  {
   "cell_type": "code",
   "execution_count": 266,
   "metadata": {},
   "outputs": [
    {
     "data": {
      "text/plain": [
       "50.19"
      ]
     },
     "execution_count": 266,
     "metadata": {},
     "output_type": "execute_result"
    }
   ],
   "source": [
    "# Total Purchase Value from othernondisclosed\n",
    "Total_Revenue_Othernondisclosed = othernondisclosed_purchase_data_df[\"Price\"].sum()\n",
    "Total_Revenue_Othernondisclosed"
   ]
  },
  {
   "cell_type": "code",
   "execution_count": 267,
   "metadata": {},
   "outputs": [
    {
     "data": {
      "text/plain": [
       "4.5627272727272725"
      ]
     },
     "execution_count": 267,
     "metadata": {},
     "output_type": "execute_result"
    }
   ],
   "source": [
    "# Average Total Purchase per Othernondisclosed Person\n",
    "average_purchase_per_othernondisclosed = Total_Revenue_Othernondisclosed / othernondisclosed_player_count\n",
    "average_purchase_per_othernondisclosed"
   ]
  },
  {
   "cell_type": "code",
   "execution_count": 268,
   "metadata": {},
   "outputs": [
    {
     "data": {
      "text/html": [
       "<div>\n",
       "<style scoped>\n",
       "    .dataframe tbody tr th:only-of-type {\n",
       "        vertical-align: middle;\n",
       "    }\n",
       "\n",
       "    .dataframe tbody tr th {\n",
       "        vertical-align: top;\n",
       "    }\n",
       "\n",
       "    .dataframe thead th {\n",
       "        text-align: right;\n",
       "    }\n",
       "</style>\n",
       "<table border=\"1\" class=\"dataframe\">\n",
       "  <thead>\n",
       "    <tr style=\"text-align: right;\">\n",
       "      <th></th>\n",
       "      <th>Purchase Count</th>\n",
       "      <th>Average Purchase Price</th>\n",
       "      <th>Total Purchase Value</th>\n",
       "      <th>Avg Total Purchase per Person</th>\n",
       "    </tr>\n",
       "    <tr>\n",
       "      <th>Gender</th>\n",
       "      <th></th>\n",
       "      <th></th>\n",
       "      <th></th>\n",
       "      <th></th>\n",
       "    </tr>\n",
       "  </thead>\n",
       "  <tbody>\n",
       "    <tr>\n",
       "      <th>Female</th>\n",
       "      <td>113</td>\n",
       "      <td>3.203009</td>\n",
       "      <td>361.94</td>\n",
       "      <td>4.468395</td>\n",
       "    </tr>\n",
       "    <tr>\n",
       "      <th>Male</th>\n",
       "      <td>652</td>\n",
       "      <td>3.017853</td>\n",
       "      <td>1967.64</td>\n",
       "      <td>4.065372</td>\n",
       "    </tr>\n",
       "    <tr>\n",
       "      <th>Other / Non-Disclosed</th>\n",
       "      <td>15</td>\n",
       "      <td>3.346000</td>\n",
       "      <td>50.19</td>\n",
       "      <td>4.562727</td>\n",
       "    </tr>\n",
       "  </tbody>\n",
       "</table>\n",
       "</div>"
      ],
      "text/plain": [
       "                       Purchase Count  Average Purchase Price  \\\n",
       "Gender                                                          \n",
       "Female                            113                3.203009   \n",
       "Male                              652                3.017853   \n",
       "Other / Non-Disclosed              15                3.346000   \n",
       "\n",
       "                       Total Purchase Value  Avg Total Purchase per Person  \n",
       "Gender                                                                      \n",
       "Female                               361.94                       4.468395  \n",
       "Male                                1967.64                       4.065372  \n",
       "Other / Non-Disclosed                 50.19                       4.562727  "
      ]
     },
     "execution_count": 268,
     "metadata": {},
     "output_type": "execute_result"
    }
   ],
   "source": [
    "# Create a summary data frame to hold the Purchasing Analysis(Gender) results\n",
    "\n",
    "# Create a DataFrame of Gender Breakdown using a list of dictionaries\n",
    "PurchasingAnalysisbyGender_df = pd.DataFrame([\n",
    "    {\"Gender\": \"Female\", \"Purchase Count\": unique_purchases_female, \"Average Purchase Price\": average_purchase_price_female, \"Total Purchase Value\": Total_Revenue_Female, \"Avg Total Purchase per Person\": average_purchase_per_female},\n",
    "    {\"Gender\": \"Male\", \"Purchase Count\": unique_purchases_male, \"Average Purchase Price\": average_purchase_price_male, \"Total Purchase Value\": Total_Revenue_Male, \"Avg Total Purchase per Person\": average_purchase_per_male},\n",
    "    {\"Gender\": \"Other / Non-Disclosed\", \"Purchase Count\": unique_purchases_othernondisclosed, \"Average Purchase Price\": average_purchase_price_othernondisclosed, \"Total Purchase Value\": Total_Revenue_Othernondisclosed, \"Avg Total Purchase per Person\": average_purchase_per_othernondisclosed},\n",
    "]).set_index(\"Gender\")\n",
    "PurchasingAnalysisbyGender_df"
   ]
  },
  {
   "cell_type": "code",
   "execution_count": 269,
   "metadata": {},
   "outputs": [
    {
     "data": {
      "text/html": [
       "<div>\n",
       "<style scoped>\n",
       "    .dataframe tbody tr th:only-of-type {\n",
       "        vertical-align: middle;\n",
       "    }\n",
       "\n",
       "    .dataframe tbody tr th {\n",
       "        vertical-align: top;\n",
       "    }\n",
       "\n",
       "    .dataframe thead th {\n",
       "        text-align: right;\n",
       "    }\n",
       "</style>\n",
       "<table border=\"1\" class=\"dataframe\">\n",
       "  <thead>\n",
       "    <tr style=\"text-align: right;\">\n",
       "      <th></th>\n",
       "      <th>Purchase Count</th>\n",
       "      <th>Average Purchase Price</th>\n",
       "      <th>Total Purchase Value</th>\n",
       "      <th>Avg Total Purchase per Person</th>\n",
       "    </tr>\n",
       "    <tr>\n",
       "      <th>Gender</th>\n",
       "      <th></th>\n",
       "      <th></th>\n",
       "      <th></th>\n",
       "      <th></th>\n",
       "    </tr>\n",
       "  </thead>\n",
       "  <tbody>\n",
       "    <tr>\n",
       "      <th>Female</th>\n",
       "      <td>113</td>\n",
       "      <td>$3.20</td>\n",
       "      <td>$361.94</td>\n",
       "      <td>$4.47</td>\n",
       "    </tr>\n",
       "    <tr>\n",
       "      <th>Male</th>\n",
       "      <td>652</td>\n",
       "      <td>$3.02</td>\n",
       "      <td>$1,967.64</td>\n",
       "      <td>$4.07</td>\n",
       "    </tr>\n",
       "    <tr>\n",
       "      <th>Other / Non-Disclosed</th>\n",
       "      <td>15</td>\n",
       "      <td>$3.35</td>\n",
       "      <td>$50.19</td>\n",
       "      <td>$4.56</td>\n",
       "    </tr>\n",
       "  </tbody>\n",
       "</table>\n",
       "</div>"
      ],
      "text/plain": [
       "                       Purchase Count Average Purchase Price  \\\n",
       "Gender                                                         \n",
       "Female                            113                  $3.20   \n",
       "Male                              652                  $3.02   \n",
       "Other / Non-Disclosed              15                  $3.35   \n",
       "\n",
       "                      Total Purchase Value Avg Total Purchase per Person  \n",
       "Gender                                                                    \n",
       "Female                             $361.94                         $4.47  \n",
       "Male                             $1,967.64                         $4.07  \n",
       "Other / Non-Disclosed               $50.19                         $4.56  "
      ]
     },
     "execution_count": 269,
     "metadata": {},
     "output_type": "execute_result"
    }
   ],
   "source": [
    "# Optional: give the displayed data cleaner formatting\n",
    "\n",
    "PurchasingAnalysisbyGender_Formatted_df = PurchasingAnalysisbyGender_df\n",
    "\n",
    "PurchasingAnalysisbyGender_Formatted_df[\"Average Purchase Price\"] = PurchasingAnalysisbyGender_df[\"Average Purchase Price\"].map(\"${:.2f}\".format)\n",
    "PurchasingAnalysisbyGender_Formatted_df[\"Total Purchase Value\"] = PurchasingAnalysisbyGender_df[\"Total Purchase Value\"].map(\"${:,.2f}\".format)\n",
    "PurchasingAnalysisbyGender_Formatted_df[\"Avg Total Purchase per Person\"] = PurchasingAnalysisbyGender_df[\"Avg Total Purchase per Person\"].map(\"${:,.2f}\".format)\n",
    "\n",
    "PurchasingAnalysisbyGender_Formatted_df"
   ]
  },
  {
   "cell_type": "code",
   "execution_count": 270,
   "metadata": {},
   "outputs": [],
   "source": [
    "# AGE DEMOGRAPHICS\n",
    "\n",
    "# Establish bins for ages- Create the bins in which Data will be held\n",
    "\n",
    "bins = [0, 9, 14, 19, 24, 29, 34, 39, 999]\n",
    "\n",
    "# Create the names for the eight bins\n",
    "group_names = [\"<10\", \"10-14\", \"15-19\", \"20-24\", \"25-29\", \"30-34\", \"35-39\", \"40+\"]\n",
    "\n",
    "# Create New Dataframe for this analysis that will categorizes the existing players using the age bins\n",
    "\n",
    "purchase_data_age_demographics_df = pd.DataFrame(purchase_data_df)\n",
    "\n",
    "# Categorize the existing players using the age bins. Hint: use pd.cut()\n",
    "\n",
    "purchase_data_age_demographics_df[\"Age Demographics Summary\"] = pd.cut(purchase_data_df[\"Age\"], bins, labels=group_names)\n",
    "# purchase_data_age_demographics_df\n",
    "\n"
   ]
  },
  {
   "cell_type": "code",
   "execution_count": 271,
   "metadata": {},
   "outputs": [],
   "source": [
    "# Calculate the numbers and percentages by age group\n",
    "\n",
    "# Count the number of Players Aged less than 10\n",
    "\n",
    "# Filter the data so that only players less than 10 are in a DataFrame\n",
    "\n",
    "playersagelessthanten_purchase_data_df = purchase_data_age_demographics_df.loc[purchase_data_age_demographics_df[\"Age Demographics Summary\"] == \"<10\", :]\n",
    "# playersagelessthanten_purchase_data_df.head()\n"
   ]
  },
  {
   "cell_type": "code",
   "execution_count": 272,
   "metadata": {},
   "outputs": [
    {
     "data": {
      "text/plain": [
       "17"
      ]
     },
     "execution_count": 272,
     "metadata": {},
     "output_type": "execute_result"
    }
   ],
   "source": [
    "# Calculate the Total Number of Players aged less than 10 in the DataFrame\n",
    "player_count_agelessthanten = len(playersagelessthanten_purchase_data_df[\"SN\"].unique())\n",
    "player_count_agelessthanten"
   ]
  },
  {
   "cell_type": "code",
   "execution_count": 273,
   "metadata": {},
   "outputs": [
    {
     "data": {
      "text/plain": [
       "0.029513888888888888"
      ]
     },
     "execution_count": 273,
     "metadata": {},
     "output_type": "execute_result"
    }
   ],
   "source": [
    "# Calculate the Percentage of Players aged less than 10 in the DataFrame\n",
    "\n",
    "Percentagelessthanten = player_count_agelessthanten / player_count\n",
    "Percentagelessthanten"
   ]
  },
  {
   "cell_type": "code",
   "execution_count": 274,
   "metadata": {},
   "outputs": [],
   "source": [
    "# Filter the data so that only players between 10-14 are in a DataFrame\n",
    "\n",
    "playersage10to14_purchase_data_df = purchase_data_age_demographics_df.loc[purchase_data_age_demographics_df[\"Age Demographics Summary\"] == \"10-14\", :]\n",
    "# playersage10to14_purchase_data_df.head()"
   ]
  },
  {
   "cell_type": "code",
   "execution_count": 275,
   "metadata": {},
   "outputs": [
    {
     "data": {
      "text/plain": [
       "22"
      ]
     },
     "execution_count": 275,
     "metadata": {},
     "output_type": "execute_result"
    }
   ],
   "source": [
    "# Calculate the Total Number of Players aged 10-14 in the DataFrame\n",
    "player_count_age10to14 = len(playersage10to14_purchase_data_df[\"SN\"].unique())\n",
    "player_count_age10to14"
   ]
  },
  {
   "cell_type": "code",
   "execution_count": 276,
   "metadata": {},
   "outputs": [
    {
     "data": {
      "text/plain": [
       "0.03819444444444445"
      ]
     },
     "execution_count": 276,
     "metadata": {},
     "output_type": "execute_result"
    }
   ],
   "source": [
    "# Calculate the Percentage of Players aged 10-14 in the DataFrame\n",
    "\n",
    "Percentage10to14 = player_count_age10to14 / player_count\n",
    "Percentage10to14"
   ]
  },
  {
   "cell_type": "code",
   "execution_count": 277,
   "metadata": {},
   "outputs": [],
   "source": [
    "# Filter the data so that only players between 15-19 are in a DataFrame\n",
    "\n",
    "playersage15to19_purchase_data_df = purchase_data_age_demographics_df.loc[purchase_data_age_demographics_df[\"Age Demographics Summary\"] == \"15-19\", :]\n",
    "# playersage15to19_purchase_data_df.head()"
   ]
  },
  {
   "cell_type": "code",
   "execution_count": 278,
   "metadata": {},
   "outputs": [
    {
     "data": {
      "text/plain": [
       "107"
      ]
     },
     "execution_count": 278,
     "metadata": {},
     "output_type": "execute_result"
    }
   ],
   "source": [
    "# Calculate the Total Number of Players aged 15-19 in the DataFrame\n",
    "player_count_age15to19 = len(playersage15to19_purchase_data_df[\"SN\"].unique())\n",
    "player_count_age15to19"
   ]
  },
  {
   "cell_type": "code",
   "execution_count": 279,
   "metadata": {},
   "outputs": [
    {
     "data": {
      "text/plain": [
       "0.1857638888888889"
      ]
     },
     "execution_count": 279,
     "metadata": {},
     "output_type": "execute_result"
    }
   ],
   "source": [
    "# Calculate the Percentage of Players aged 15-19 in the DataFrame\n",
    "\n",
    "Percentage15to19 = player_count_age15to19 / player_count\n",
    "Percentage15to19"
   ]
  },
  {
   "cell_type": "code",
   "execution_count": 280,
   "metadata": {},
   "outputs": [],
   "source": [
    "# Filter the data so that only players between 20-24 are in a DataFrame\n",
    "\n",
    "playersage20to24_purchase_data_df = purchase_data_age_demographics_df.loc[purchase_data_age_demographics_df[\"Age Demographics Summary\"] == \"20-24\", :]\n",
    "# playersage20to24_purchase_data_df.head()"
   ]
  },
  {
   "cell_type": "code",
   "execution_count": 281,
   "metadata": {},
   "outputs": [
    {
     "data": {
      "text/plain": [
       "258"
      ]
     },
     "execution_count": 281,
     "metadata": {},
     "output_type": "execute_result"
    }
   ],
   "source": [
    "# Calculate the Total Number of Players aged 20-24 in the DataFrame\n",
    "player_count_age20to24 = len(playersage20to24_purchase_data_df[\"SN\"].unique())\n",
    "player_count_age20to24"
   ]
  },
  {
   "cell_type": "code",
   "execution_count": 282,
   "metadata": {},
   "outputs": [
    {
     "data": {
      "text/plain": [
       "0.4479166666666667"
      ]
     },
     "execution_count": 282,
     "metadata": {},
     "output_type": "execute_result"
    }
   ],
   "source": [
    "# Calculate the Percentage of Players aged 20-24 in the DataFrame\n",
    "\n",
    "Percentage20to24 = player_count_age20to24 / player_count\n",
    "Percentage20to24"
   ]
  },
  {
   "cell_type": "code",
   "execution_count": 283,
   "metadata": {},
   "outputs": [],
   "source": [
    "# Filter the data so that only players between 25-29 are in a DataFrame\n",
    "\n",
    "playersage25to29_purchase_data_df = purchase_data_age_demographics_df.loc[purchase_data_age_demographics_df[\"Age Demographics Summary\"] == \"25-29\", :]\n",
    "# playersage25to29_purchase_data_df.head()"
   ]
  },
  {
   "cell_type": "code",
   "execution_count": 284,
   "metadata": {},
   "outputs": [
    {
     "data": {
      "text/plain": [
       "77"
      ]
     },
     "execution_count": 284,
     "metadata": {},
     "output_type": "execute_result"
    }
   ],
   "source": [
    "# Calculate the Total Number of Players aged 25-29 in the DataFrame\n",
    "player_count_age25to29 = len(playersage25to29_purchase_data_df[\"SN\"].unique())\n",
    "player_count_age25to29"
   ]
  },
  {
   "cell_type": "code",
   "execution_count": 285,
   "metadata": {},
   "outputs": [
    {
     "data": {
      "text/plain": [
       "0.13368055555555555"
      ]
     },
     "execution_count": 285,
     "metadata": {},
     "output_type": "execute_result"
    }
   ],
   "source": [
    "# Calculate the Percentage of Players aged 25-29 in the DataFrame\n",
    "\n",
    "Percentage25to29 = player_count_age25to29 / player_count\n",
    "Percentage25to29"
   ]
  },
  {
   "cell_type": "code",
   "execution_count": 286,
   "metadata": {},
   "outputs": [],
   "source": [
    "# Filter the data so that only players between 30-34 are in a DataFrame\n",
    "\n",
    "playersage30to34_purchase_data_df = purchase_data_age_demographics_df.loc[purchase_data_age_demographics_df[\"Age Demographics Summary\"] == \"30-34\", :]\n",
    "# playersage30to34_purchase_data_df.head()"
   ]
  },
  {
   "cell_type": "code",
   "execution_count": 287,
   "metadata": {},
   "outputs": [
    {
     "data": {
      "text/plain": [
       "52"
      ]
     },
     "execution_count": 287,
     "metadata": {},
     "output_type": "execute_result"
    }
   ],
   "source": [
    "# Calculate the Total Number of Players aged 30-34 in the DataFrame\n",
    "player_count_age30to34 = len(playersage30to34_purchase_data_df[\"SN\"].unique())\n",
    "player_count_age30to34"
   ]
  },
  {
   "cell_type": "code",
   "execution_count": 288,
   "metadata": {},
   "outputs": [
    {
     "data": {
      "text/plain": [
       "0.09027777777777778"
      ]
     },
     "execution_count": 288,
     "metadata": {},
     "output_type": "execute_result"
    }
   ],
   "source": [
    "# Calculate the Percentage of Players aged 30-34 in the DataFrame\n",
    "\n",
    "Percentage30to34 = player_count_age30to34 / player_count\n",
    "Percentage30to34"
   ]
  },
  {
   "cell_type": "code",
   "execution_count": 289,
   "metadata": {},
   "outputs": [],
   "source": [
    "# Filter the data so that only players between 35-39 are in a DataFrame\n",
    "\n",
    "playersage35to39_purchase_data_df = purchase_data_age_demographics_df.loc[purchase_data_age_demographics_df[\"Age Demographics Summary\"] == \"35-39\", :]\n",
    "# playersage35to39_purchase_data_df.head()"
   ]
  },
  {
   "cell_type": "code",
   "execution_count": 290,
   "metadata": {},
   "outputs": [
    {
     "data": {
      "text/plain": [
       "31"
      ]
     },
     "execution_count": 290,
     "metadata": {},
     "output_type": "execute_result"
    }
   ],
   "source": [
    "# Calculate the Total Number of Players aged 35-39 in the DataFrame\n",
    "player_count_age35to39 = len(playersage35to39_purchase_data_df[\"SN\"].unique())\n",
    "player_count_age35to39"
   ]
  },
  {
   "cell_type": "code",
   "execution_count": 291,
   "metadata": {},
   "outputs": [
    {
     "data": {
      "text/plain": [
       "0.05381944444444445"
      ]
     },
     "execution_count": 291,
     "metadata": {},
     "output_type": "execute_result"
    }
   ],
   "source": [
    "# Calculate the Percentage of Players aged 35-39 in the DataFrame\n",
    "\n",
    "Percentage35to39 = player_count_age35to39 / player_count\n",
    "Percentage35to39"
   ]
  },
  {
   "cell_type": "code",
   "execution_count": 292,
   "metadata": {},
   "outputs": [],
   "source": [
    "# Filter the data so that only players aged 40+ are in a DataFrame\n",
    "\n",
    "playersage40pluspurchase_data_df = purchase_data_age_demographics_df.loc[purchase_data_age_demographics_df[\"Age Demographics Summary\"] == \"40+\", :]\n",
    "# playersage40pluspurchase_data_df.head()"
   ]
  },
  {
   "cell_type": "code",
   "execution_count": 293,
   "metadata": {},
   "outputs": [
    {
     "data": {
      "text/plain": [
       "12"
      ]
     },
     "execution_count": 293,
     "metadata": {},
     "output_type": "execute_result"
    }
   ],
   "source": [
    "# Calculate the Total Number of Players aged 40+ in the DataFrame\n",
    "player_count_age40plus = len(playersage40pluspurchase_data_df[\"SN\"].unique())\n",
    "player_count_age40plus"
   ]
  },
  {
   "cell_type": "code",
   "execution_count": 294,
   "metadata": {},
   "outputs": [
    {
     "data": {
      "text/plain": [
       "0.020833333333333332"
      ]
     },
     "execution_count": 294,
     "metadata": {},
     "output_type": "execute_result"
    }
   ],
   "source": [
    "# Calculate the Percentage of Players aged 40+ in the DataFrame\n",
    "\n",
    "Percentage40plus = player_count_age40plus / player_count\n",
    "Percentage40plus"
   ]
  },
  {
   "cell_type": "code",
   "execution_count": 295,
   "metadata": {},
   "outputs": [
    {
     "data": {
      "text/html": [
       "<div>\n",
       "<style scoped>\n",
       "    .dataframe tbody tr th:only-of-type {\n",
       "        vertical-align: middle;\n",
       "    }\n",
       "\n",
       "    .dataframe tbody tr th {\n",
       "        vertical-align: top;\n",
       "    }\n",
       "\n",
       "    .dataframe thead th {\n",
       "        text-align: right;\n",
       "    }\n",
       "</style>\n",
       "<table border=\"1\" class=\"dataframe\">\n",
       "  <thead>\n",
       "    <tr style=\"text-align: right;\">\n",
       "      <th></th>\n",
       "      <th>Total Count</th>\n",
       "      <th>Percentage of Players</th>\n",
       "    </tr>\n",
       "    <tr>\n",
       "      <th>Age</th>\n",
       "      <th></th>\n",
       "      <th></th>\n",
       "    </tr>\n",
       "  </thead>\n",
       "  <tbody>\n",
       "    <tr>\n",
       "      <th>&lt;10</th>\n",
       "      <td>17</td>\n",
       "      <td>2.951389</td>\n",
       "    </tr>\n",
       "    <tr>\n",
       "      <th>10-14</th>\n",
       "      <td>22</td>\n",
       "      <td>3.819444</td>\n",
       "    </tr>\n",
       "    <tr>\n",
       "      <th>15-19</th>\n",
       "      <td>107</td>\n",
       "      <td>18.576389</td>\n",
       "    </tr>\n",
       "    <tr>\n",
       "      <th>20-24</th>\n",
       "      <td>258</td>\n",
       "      <td>44.791667</td>\n",
       "    </tr>\n",
       "    <tr>\n",
       "      <th>25-29</th>\n",
       "      <td>77</td>\n",
       "      <td>13.368056</td>\n",
       "    </tr>\n",
       "    <tr>\n",
       "      <th>30-34</th>\n",
       "      <td>52</td>\n",
       "      <td>9.027778</td>\n",
       "    </tr>\n",
       "    <tr>\n",
       "      <th>35-39</th>\n",
       "      <td>31</td>\n",
       "      <td>5.381944</td>\n",
       "    </tr>\n",
       "    <tr>\n",
       "      <th>40+</th>\n",
       "      <td>12</td>\n",
       "      <td>2.083333</td>\n",
       "    </tr>\n",
       "  </tbody>\n",
       "</table>\n",
       "</div>"
      ],
      "text/plain": [
       "       Total Count  Percentage of Players\n",
       "Age                                      \n",
       "<10             17               2.951389\n",
       "10-14           22               3.819444\n",
       "15-19          107              18.576389\n",
       "20-24          258              44.791667\n",
       "25-29           77              13.368056\n",
       "30-34           52               9.027778\n",
       "35-39           31               5.381944\n",
       "40+             12               2.083333"
      ]
     },
     "execution_count": 295,
     "metadata": {},
     "output_type": "execute_result"
    }
   ],
   "source": [
    "# Create a summary data frame to hold the Age Demographics Analysis results\n",
    "\n",
    "# Create a DataFrame of Age Category Breakdown using a list of dictionaries\n",
    "Age_Demographics_Analysis_df = pd.DataFrame([\n",
    "    {\"Age\": \"<10\", \"Total Count\": player_count_agelessthanten, \"Percentage of Players\": Percentagelessthanten*100},\n",
    "    {\"Age\": \"10-14\", \"Total Count\": player_count_age10to14, \"Percentage of Players\": Percentage10to14*100},\n",
    "    {\"Age\": \"15-19\", \"Total Count\": player_count_age15to19, \"Percentage of Players\": Percentage15to19*100},\n",
    "    {\"Age\": \"20-24\", \"Total Count\": player_count_age20to24, \"Percentage of Players\": Percentage20to24*100},\n",
    "    {\"Age\": \"25-29\", \"Total Count\": player_count_age25to29, \"Percentage of Players\": Percentage25to29*100},\n",
    "    {\"Age\": \"30-34\", \"Total Count\": player_count_age30to34, \"Percentage of Players\": Percentage30to34*100},\n",
    "    {\"Age\": \"35-39\", \"Total Count\": player_count_age35to39, \"Percentage of Players\": Percentage35to39*100},\n",
    "    {\"Age\": \"40+\", \"Total Count\": player_count_age40plus, \"Percentage of Players\": Percentage40plus*100},   \n",
    "    ]).set_index(\"Age\")\n",
    "Age_Demographics_Analysis_df"
   ]
  },
  {
   "cell_type": "code",
   "execution_count": 296,
   "metadata": {},
   "outputs": [
    {
     "data": {
      "text/html": [
       "<div>\n",
       "<style scoped>\n",
       "    .dataframe tbody tr th:only-of-type {\n",
       "        vertical-align: middle;\n",
       "    }\n",
       "\n",
       "    .dataframe tbody tr th {\n",
       "        vertical-align: top;\n",
       "    }\n",
       "\n",
       "    .dataframe thead th {\n",
       "        text-align: right;\n",
       "    }\n",
       "</style>\n",
       "<table border=\"1\" class=\"dataframe\">\n",
       "  <thead>\n",
       "    <tr style=\"text-align: right;\">\n",
       "      <th></th>\n",
       "      <th>Total Count</th>\n",
       "      <th>Percentage of Players</th>\n",
       "    </tr>\n",
       "    <tr>\n",
       "      <th>Age</th>\n",
       "      <th></th>\n",
       "      <th></th>\n",
       "    </tr>\n",
       "  </thead>\n",
       "  <tbody>\n",
       "    <tr>\n",
       "      <th>&lt;10</th>\n",
       "      <td>17</td>\n",
       "      <td>2.95%</td>\n",
       "    </tr>\n",
       "    <tr>\n",
       "      <th>10-14</th>\n",
       "      <td>22</td>\n",
       "      <td>3.82%</td>\n",
       "    </tr>\n",
       "    <tr>\n",
       "      <th>15-19</th>\n",
       "      <td>107</td>\n",
       "      <td>18.58%</td>\n",
       "    </tr>\n",
       "    <tr>\n",
       "      <th>20-24</th>\n",
       "      <td>258</td>\n",
       "      <td>44.79%</td>\n",
       "    </tr>\n",
       "    <tr>\n",
       "      <th>25-29</th>\n",
       "      <td>77</td>\n",
       "      <td>13.37%</td>\n",
       "    </tr>\n",
       "    <tr>\n",
       "      <th>30-34</th>\n",
       "      <td>52</td>\n",
       "      <td>9.03%</td>\n",
       "    </tr>\n",
       "    <tr>\n",
       "      <th>35-39</th>\n",
       "      <td>31</td>\n",
       "      <td>5.38%</td>\n",
       "    </tr>\n",
       "    <tr>\n",
       "      <th>40+</th>\n",
       "      <td>12</td>\n",
       "      <td>2.08%</td>\n",
       "    </tr>\n",
       "  </tbody>\n",
       "</table>\n",
       "</div>"
      ],
      "text/plain": [
       "       Total Count Percentage of Players\n",
       "Age                                     \n",
       "<10             17                 2.95%\n",
       "10-14           22                 3.82%\n",
       "15-19          107                18.58%\n",
       "20-24          258                44.79%\n",
       "25-29           77                13.37%\n",
       "30-34           52                 9.03%\n",
       "35-39           31                 5.38%\n",
       "40+             12                 2.08%"
      ]
     },
     "execution_count": 296,
     "metadata": {},
     "output_type": "execute_result"
    }
   ],
   "source": [
    "# Optional: round the percentage column to two decimal points\n",
    "\n",
    "Age_Demographics_Analysis_Formatted_df = Age_Demographics_Analysis_df\n",
    "\n",
    "Age_Demographics_Analysis_Formatted_df[\"Percentage of Players\"] = Age_Demographics_Analysis_df[\"Percentage of Players\"].map(\"{:.2f}%\".format)\n",
    "\n",
    "Age_Demographics_Analysis_Formatted_df"
   ]
  },
  {
   "cell_type": "code",
   "execution_count": 297,
   "metadata": {},
   "outputs": [],
   "source": [
    "# Purchasing Analysis (Age)\n",
    "\n",
    "# Create New Dataframe for this Purchasing Analysis (Age) analysis that will categorizes the existing players using the age bins\n",
    "\n",
    "purchasing_analysis_age_df = pd.DataFrame(purchase_data_df)\n",
    "\n",
    "# Bin the purchase_data data frame by age by categorizing the existing players using the age bins.\n",
    "\n",
    "purchasing_analysis_age_df[\"Age Demographics Summary\"] = pd.cut(purchase_data_df[\"Age\"], bins, labels=group_names)\n",
    "# purchasing_analysis_age_df"
   ]
  },
  {
   "cell_type": "code",
   "execution_count": 298,
   "metadata": {},
   "outputs": [
    {
     "data": {
      "text/html": [
       "<div>\n",
       "<style scoped>\n",
       "    .dataframe tbody tr th:only-of-type {\n",
       "        vertical-align: middle;\n",
       "    }\n",
       "\n",
       "    .dataframe tbody tr th {\n",
       "        vertical-align: top;\n",
       "    }\n",
       "\n",
       "    .dataframe thead th {\n",
       "        text-align: right;\n",
       "    }\n",
       "</style>\n",
       "<table border=\"1\" class=\"dataframe\">\n",
       "  <thead>\n",
       "    <tr style=\"text-align: right;\">\n",
       "      <th></th>\n",
       "      <th>Purchase Count</th>\n",
       "      <th>Average Purchase Price</th>\n",
       "      <th>Total Purchase Value</th>\n",
       "      <th>Avg Total Purchase per Person</th>\n",
       "    </tr>\n",
       "    <tr>\n",
       "      <th>Age Ranges</th>\n",
       "      <th></th>\n",
       "      <th></th>\n",
       "      <th></th>\n",
       "      <th></th>\n",
       "    </tr>\n",
       "  </thead>\n",
       "  <tbody>\n",
       "    <tr>\n",
       "      <th>&lt;10</th>\n",
       "      <td>23</td>\n",
       "      <td>3.353478</td>\n",
       "      <td>77.13</td>\n",
       "      <td>4.537059</td>\n",
       "    </tr>\n",
       "    <tr>\n",
       "      <th>10-14</th>\n",
       "      <td>28</td>\n",
       "      <td>2.956429</td>\n",
       "      <td>82.78</td>\n",
       "      <td>3.762727</td>\n",
       "    </tr>\n",
       "    <tr>\n",
       "      <th>15-19</th>\n",
       "      <td>136</td>\n",
       "      <td>3.035956</td>\n",
       "      <td>412.89</td>\n",
       "      <td>3.858785</td>\n",
       "    </tr>\n",
       "    <tr>\n",
       "      <th>20-24</th>\n",
       "      <td>365</td>\n",
       "      <td>3.052219</td>\n",
       "      <td>1114.06</td>\n",
       "      <td>4.318062</td>\n",
       "    </tr>\n",
       "    <tr>\n",
       "      <th>25-29</th>\n",
       "      <td>101</td>\n",
       "      <td>2.900990</td>\n",
       "      <td>293.00</td>\n",
       "      <td>3.805195</td>\n",
       "    </tr>\n",
       "    <tr>\n",
       "      <th>30-34</th>\n",
       "      <td>73</td>\n",
       "      <td>2.931507</td>\n",
       "      <td>214.00</td>\n",
       "      <td>4.115385</td>\n",
       "    </tr>\n",
       "    <tr>\n",
       "      <th>35-39</th>\n",
       "      <td>41</td>\n",
       "      <td>3.601707</td>\n",
       "      <td>147.67</td>\n",
       "      <td>4.763548</td>\n",
       "    </tr>\n",
       "    <tr>\n",
       "      <th>40+</th>\n",
       "      <td>13</td>\n",
       "      <td>2.941538</td>\n",
       "      <td>38.24</td>\n",
       "      <td>3.186667</td>\n",
       "    </tr>\n",
       "  </tbody>\n",
       "</table>\n",
       "</div>"
      ],
      "text/plain": [
       "            Purchase Count  Average Purchase Price  Total Purchase Value  \\\n",
       "Age Ranges                                                                 \n",
       "<10                     23                3.353478                 77.13   \n",
       "10-14                   28                2.956429                 82.78   \n",
       "15-19                  136                3.035956                412.89   \n",
       "20-24                  365                3.052219               1114.06   \n",
       "25-29                  101                2.900990                293.00   \n",
       "30-34                   73                2.931507                214.00   \n",
       "35-39                   41                3.601707                147.67   \n",
       "40+                     13                2.941538                 38.24   \n",
       "\n",
       "            Avg Total Purchase per Person  \n",
       "Age Ranges                                 \n",
       "<10                              4.537059  \n",
       "10-14                            3.762727  \n",
       "15-19                            3.858785  \n",
       "20-24                            4.318062  \n",
       "25-29                            3.805195  \n",
       "30-34                            4.115385  \n",
       "35-39                            4.763548  \n",
       "40+                              3.186667  "
      ]
     },
     "execution_count": 298,
     "metadata": {},
     "output_type": "execute_result"
    }
   ],
   "source": [
    "# DFs For reference:\n",
    "# playersagelessthanten_purchase_data_df\n",
    "# playersage10to14_purchase_data_df\n",
    "# playersage15to19_purchase_data_df\n",
    "# playersage20to24_purchase_data_df\n",
    "# playersage25to29_purchase_data_df\n",
    "# playersage30to34_purchase_data_df\n",
    "# playersage35to39_purchase_data_df\n",
    "# playersage40pluspurchase_data_df\n",
    "\n",
    "# Run basic calculations to obtain purchase count, avg. purchase price, avg. purchase total per person etc. in the table below\n",
    "\n",
    "# Number of Unique Purchases from each age category: The value_counts method counts unique values in a column\n",
    "unique_purchases_playersagelessthanten = len(playersagelessthanten_purchase_data_df[\"Purchase ID\"].unique())\n",
    "unique_purchases_playersage10to14 = len(playersage10to14_purchase_data_df[\"Purchase ID\"].unique())\n",
    "unique_purchases_playersage15to19 = len(playersage15to19_purchase_data_df[\"Purchase ID\"].unique())\n",
    "unique_purchases_playersage20to24 = len(playersage20to24_purchase_data_df[\"Purchase ID\"].unique())\n",
    "unique_purchases_playersage25to29 = len(playersage25to29_purchase_data_df[\"Purchase ID\"].unique())\n",
    "unique_purchases_playersage30to34 = len(playersage30to34_purchase_data_df[\"Purchase ID\"].unique())\n",
    "unique_purchases_playersage35to39 = len(playersage35to39_purchase_data_df[\"Purchase ID\"].unique())\n",
    "unique_purchases_playersage40plus = len(playersage40pluspurchase_data_df[\"Purchase ID\"].unique())\n",
    "\n",
    "\n",
    "# Average Purchase Price from each age category: The mean method averages the series\n",
    "\n",
    "average_purchase_price_playersagelessthanten = (playersagelessthanten_purchase_data_df[\"Price\"].mean())\n",
    "average_purchase_price_playersage10to14 = playersage10to14_purchase_data_df[\"Price\"].mean()\n",
    "average_purchase_price_playersage15to19 = playersage15to19_purchase_data_df[\"Price\"].mean()\n",
    "average_purchase_price_playersage20to24 = playersage20to24_purchase_data_df[\"Price\"].mean()\n",
    "average_purchase_price_playersage25to29 = playersage25to29_purchase_data_df[\"Price\"].mean()\n",
    "average_purchase_price_playersage30to34 = playersage30to34_purchase_data_df[\"Price\"].mean()\n",
    "average_purchase_price_playersage35to39 = playersage35to39_purchase_data_df[\"Price\"].mean()\n",
    "average_purchase_price_playersage40plus = playersage40pluspurchase_data_df[\"Price\"].mean()\n",
    "\n",
    "\n",
    "# Total Purchase Value from each age category\n",
    "\n",
    "total_purchase_value_playersagelessthanten = (playersagelessthanten_purchase_data_df[\"Price\"].sum())\n",
    "total_purchase_value_playersage10to14 = playersage10to14_purchase_data_df[\"Price\"].sum()\n",
    "total_purchase_value_playersage15to19 = playersage15to19_purchase_data_df[\"Price\"].sum()\n",
    "total_purchase_value_playersage20to24 = playersage20to24_purchase_data_df[\"Price\"].sum()\n",
    "total_purchase_value_playersage25to29 = playersage25to29_purchase_data_df[\"Price\"].sum()\n",
    "total_purchase_value_playersage30to34 = playersage30to34_purchase_data_df[\"Price\"].sum()\n",
    "total_purchase_value_playersage35to39 = playersage35to39_purchase_data_df[\"Price\"].sum()\n",
    "total_purchase_value_playersage40plus = playersage40pluspurchase_data_df[\"Price\"].sum()\n",
    "\n",
    "\n",
    "# Avg Total Purchase per Person\n",
    "\n",
    "avg_total_purchase_playersagelessthanten = total_purchase_value_playersagelessthanten / player_count_agelessthanten\n",
    "avg_total_purchase_playersage10to14 = total_purchase_value_playersage10to14 / player_count_age10to14\n",
    "avg_total_purchase_playersage15to19 = total_purchase_value_playersage15to19 / player_count_age15to19\n",
    "avg_total_purchase_playersage20to24 = total_purchase_value_playersage20to24 / player_count_age20to24\n",
    "avg_total_purchase_playersage25to29 = total_purchase_value_playersage25to29 / player_count_age25to29\n",
    "avg_total_purchase_playersage30to34 = total_purchase_value_playersage30to34 / player_count_age30to34\n",
    "avg_total_purchase_playersage35to39 = total_purchase_value_playersage35to39 / player_count_age35to39\n",
    "avg_total_purchase_playersage40plus = total_purchase_value_playersage40plus / player_count_age40plus\n",
    "\n",
    "# Create a summary data frame to hold the Purchasing Analysis(Age) results\n",
    "\n",
    "# Create a DataFrame of Age Breakdown using a list of dictionaries\n",
    "PurchasingAnalysisbyAge_df = pd.DataFrame([\n",
    "    {\"Age Ranges\": \"<10\", \"Purchase Count\": unique_purchases_playersagelessthanten, \"Average Purchase Price\": average_purchase_price_playersagelessthanten, \"Total Purchase Value\": total_purchase_value_playersagelessthanten, \"Avg Total Purchase per Person\": avg_total_purchase_playersagelessthanten},\n",
    "    {\"Age Ranges\": \"10-14\", \"Purchase Count\": unique_purchases_playersage10to14, \"Average Purchase Price\": average_purchase_price_playersage10to14, \"Total Purchase Value\": total_purchase_value_playersage10to14, \"Avg Total Purchase per Person\": avg_total_purchase_playersage10to14},\n",
    "    {\"Age Ranges\": \"15-19\", \"Purchase Count\": unique_purchases_playersage15to19, \"Average Purchase Price\": average_purchase_price_playersage15to19, \"Total Purchase Value\": total_purchase_value_playersage15to19, \"Avg Total Purchase per Person\": avg_total_purchase_playersage15to19},\n",
    "    {\"Age Ranges\": \"20-24\", \"Purchase Count\": unique_purchases_playersage20to24, \"Average Purchase Price\": average_purchase_price_playersage20to24, \"Total Purchase Value\": total_purchase_value_playersage20to24, \"Avg Total Purchase per Person\": avg_total_purchase_playersage20to24},\n",
    "    {\"Age Ranges\": \"25-29\", \"Purchase Count\": unique_purchases_playersage25to29, \"Average Purchase Price\": average_purchase_price_playersage25to29, \"Total Purchase Value\": total_purchase_value_playersage25to29, \"Avg Total Purchase per Person\": avg_total_purchase_playersage25to29},\n",
    "    {\"Age Ranges\": \"30-34\", \"Purchase Count\": unique_purchases_playersage30to34, \"Average Purchase Price\": average_purchase_price_playersage30to34, \"Total Purchase Value\": total_purchase_value_playersage30to34, \"Avg Total Purchase per Person\": avg_total_purchase_playersage30to34},\n",
    "    {\"Age Ranges\": \"35-39\", \"Purchase Count\": unique_purchases_playersage35to39, \"Average Purchase Price\": average_purchase_price_playersage35to39, \"Total Purchase Value\": total_purchase_value_playersage35to39, \"Avg Total Purchase per Person\": avg_total_purchase_playersage35to39},\n",
    "    {\"Age Ranges\": \"40+\", \"Purchase Count\": unique_purchases_playersage40plus, \"Average Purchase Price\": average_purchase_price_playersage40plus, \"Total Purchase Value\": total_purchase_value_playersage40plus, \"Avg Total Purchase per Person\": avg_total_purchase_playersage40plus},\n",
    "]).set_index(\"Age Ranges\")\n",
    "PurchasingAnalysisbyAge_df\n"
   ]
  },
  {
   "cell_type": "code",
   "execution_count": 299,
   "metadata": {},
   "outputs": [
    {
     "data": {
      "text/html": [
       "<div>\n",
       "<style scoped>\n",
       "    .dataframe tbody tr th:only-of-type {\n",
       "        vertical-align: middle;\n",
       "    }\n",
       "\n",
       "    .dataframe tbody tr th {\n",
       "        vertical-align: top;\n",
       "    }\n",
       "\n",
       "    .dataframe thead th {\n",
       "        text-align: right;\n",
       "    }\n",
       "</style>\n",
       "<table border=\"1\" class=\"dataframe\">\n",
       "  <thead>\n",
       "    <tr style=\"text-align: right;\">\n",
       "      <th></th>\n",
       "      <th>Purchase Count</th>\n",
       "      <th>Average Purchase Price</th>\n",
       "      <th>Total Purchase Value</th>\n",
       "      <th>Avg Total Purchase per Person</th>\n",
       "    </tr>\n",
       "    <tr>\n",
       "      <th>Age Ranges</th>\n",
       "      <th></th>\n",
       "      <th></th>\n",
       "      <th></th>\n",
       "      <th></th>\n",
       "    </tr>\n",
       "  </thead>\n",
       "  <tbody>\n",
       "    <tr>\n",
       "      <th>&lt;10</th>\n",
       "      <td>23</td>\n",
       "      <td>$3.35</td>\n",
       "      <td>$77.13</td>\n",
       "      <td>$4.54</td>\n",
       "    </tr>\n",
       "    <tr>\n",
       "      <th>10-14</th>\n",
       "      <td>28</td>\n",
       "      <td>$2.96</td>\n",
       "      <td>$82.78</td>\n",
       "      <td>$3.76</td>\n",
       "    </tr>\n",
       "    <tr>\n",
       "      <th>15-19</th>\n",
       "      <td>136</td>\n",
       "      <td>$3.04</td>\n",
       "      <td>$412.89</td>\n",
       "      <td>$3.86</td>\n",
       "    </tr>\n",
       "    <tr>\n",
       "      <th>20-24</th>\n",
       "      <td>365</td>\n",
       "      <td>$3.05</td>\n",
       "      <td>$1,114.06</td>\n",
       "      <td>$4.32</td>\n",
       "    </tr>\n",
       "    <tr>\n",
       "      <th>25-29</th>\n",
       "      <td>101</td>\n",
       "      <td>$2.90</td>\n",
       "      <td>$293.00</td>\n",
       "      <td>$3.81</td>\n",
       "    </tr>\n",
       "    <tr>\n",
       "      <th>30-34</th>\n",
       "      <td>73</td>\n",
       "      <td>$2.93</td>\n",
       "      <td>$214.00</td>\n",
       "      <td>$4.12</td>\n",
       "    </tr>\n",
       "    <tr>\n",
       "      <th>35-39</th>\n",
       "      <td>41</td>\n",
       "      <td>$3.60</td>\n",
       "      <td>$147.67</td>\n",
       "      <td>$4.76</td>\n",
       "    </tr>\n",
       "    <tr>\n",
       "      <th>40+</th>\n",
       "      <td>13</td>\n",
       "      <td>$2.94</td>\n",
       "      <td>$38.24</td>\n",
       "      <td>$3.19</td>\n",
       "    </tr>\n",
       "  </tbody>\n",
       "</table>\n",
       "</div>"
      ],
      "text/plain": [
       "            Purchase Count Average Purchase Price Total Purchase Value  \\\n",
       "Age Ranges                                                               \n",
       "<10                     23                  $3.35               $77.13   \n",
       "10-14                   28                  $2.96               $82.78   \n",
       "15-19                  136                  $3.04              $412.89   \n",
       "20-24                  365                  $3.05            $1,114.06   \n",
       "25-29                  101                  $2.90              $293.00   \n",
       "30-34                   73                  $2.93              $214.00   \n",
       "35-39                   41                  $3.60              $147.67   \n",
       "40+                     13                  $2.94               $38.24   \n",
       "\n",
       "           Avg Total Purchase per Person  \n",
       "Age Ranges                                \n",
       "<10                                $4.54  \n",
       "10-14                              $3.76  \n",
       "15-19                              $3.86  \n",
       "20-24                              $4.32  \n",
       "25-29                              $3.81  \n",
       "30-34                              $4.12  \n",
       "35-39                              $4.76  \n",
       "40+                                $3.19  "
      ]
     },
     "execution_count": 299,
     "metadata": {},
     "output_type": "execute_result"
    }
   ],
   "source": [
    "# Optional: give the displayed data cleaner formatting\n",
    "\n",
    "PurchasingAnalysisbyAge_Formatted_df = PurchasingAnalysisbyAge_df\n",
    "\n",
    "PurchasingAnalysisbyAge_Formatted_df[\"Average Purchase Price\"] = PurchasingAnalysisbyAge_df[\"Average Purchase Price\"].map(\"${:.2f}\".format)\n",
    "PurchasingAnalysisbyAge_Formatted_df[\"Total Purchase Value\"] = PurchasingAnalysisbyAge_df[\"Total Purchase Value\"].map(\"${:,.2f}\".format)\n",
    "PurchasingAnalysisbyAge_Formatted_df[\"Avg Total Purchase per Person\"] = PurchasingAnalysisbyAge_df[\"Avg Total Purchase per Person\"].map(\"${:,.2f}\".format)\n",
    "\n",
    "PurchasingAnalysisbyAge_Formatted_df"
   ]
  },
  {
   "cell_type": "code",
   "execution_count": 300,
   "metadata": {},
   "outputs": [],
   "source": [
    "# Top Spenders\n",
    "\n",
    "# Using GroupBy in order to separate the data into fields according to \"SN\" values\n",
    "groupedbySN_purchase_data_df = purchase_data_df.groupby(['SN'])\n",
    "\n",
    "# The object returned is a \"GroupBy\" object and cannot be viewed normally.\n",
    "# print(groupedbySN_purchase_data_df)\n",
    "\n",
    "# In order to be visualized, a data function must be used...\n",
    "# groupedbySN_purchase_data_df[\"Price\"].sum()\n",
    "\n"
   ]
  },
  {
   "cell_type": "code",
   "execution_count": 301,
   "metadata": {},
   "outputs": [],
   "source": [
    "# Total Purchase Value can now be summed up per SN\n",
    "SN_TotalPurchaseValue = groupedbySN_purchase_data_df[\"Price\"].sum()\n",
    "# SN_TotalPurchaseValue.head()"
   ]
  },
  {
   "cell_type": "code",
   "execution_count": 302,
   "metadata": {},
   "outputs": [],
   "source": [
    "# Total Purchase Count can now be summed up per SN\n",
    "SN_TotalPurchaseCount = groupedbySN_purchase_data_df[\"Purchase ID\"].count()\n",
    "# SN_TotalPurchaseCount.head()\n"
   ]
  },
  {
   "cell_type": "code",
   "execution_count": 303,
   "metadata": {},
   "outputs": [],
   "source": [
    "# Average Purchase Price can now be summed up per SN\n",
    "SN_AvgPurchasePrice = groupedbySN_purchase_data_df[\"Price\"].mean()\n",
    "# SN_AvgPurchasePrice.head()"
   ]
  },
  {
   "cell_type": "code",
   "execution_count": 304,
   "metadata": {},
   "outputs": [],
   "source": [
    "# Creating a new DataFrame using Total Purchase Count, Avg Purchase Price and Total Purchase Value\n",
    "\n",
    "SN_summary_table = pd.DataFrame({\"Purchase Count\": SN_TotalPurchaseCount,\n",
    "                                 \"Average Purchase Price\": SN_AvgPurchasePrice,\n",
    "                                 \"Total Purchase Value\": SN_TotalPurchaseValue                  \n",
    "                                })\n",
    "# SN_summary_table.head()\n"
   ]
  },
  {
   "cell_type": "code",
   "execution_count": 305,
   "metadata": {},
   "outputs": [
    {
     "data": {
      "text/html": [
       "<div>\n",
       "<style scoped>\n",
       "    .dataframe tbody tr th:only-of-type {\n",
       "        vertical-align: middle;\n",
       "    }\n",
       "\n",
       "    .dataframe tbody tr th {\n",
       "        vertical-align: top;\n",
       "    }\n",
       "\n",
       "    .dataframe thead th {\n",
       "        text-align: right;\n",
       "    }\n",
       "</style>\n",
       "<table border=\"1\" class=\"dataframe\">\n",
       "  <thead>\n",
       "    <tr style=\"text-align: right;\">\n",
       "      <th></th>\n",
       "      <th>Purchase Count</th>\n",
       "      <th>Average Purchase Price</th>\n",
       "      <th>Total Purchase Value</th>\n",
       "    </tr>\n",
       "    <tr>\n",
       "      <th>SN</th>\n",
       "      <th></th>\n",
       "      <th></th>\n",
       "      <th></th>\n",
       "    </tr>\n",
       "  </thead>\n",
       "  <tbody>\n",
       "    <tr>\n",
       "      <th>Lisosia93</th>\n",
       "      <td>5</td>\n",
       "      <td>3.792000</td>\n",
       "      <td>18.96</td>\n",
       "    </tr>\n",
       "    <tr>\n",
       "      <th>Idastidru52</th>\n",
       "      <td>4</td>\n",
       "      <td>3.862500</td>\n",
       "      <td>15.45</td>\n",
       "    </tr>\n",
       "    <tr>\n",
       "      <th>Chamjask73</th>\n",
       "      <td>3</td>\n",
       "      <td>4.610000</td>\n",
       "      <td>13.83</td>\n",
       "    </tr>\n",
       "    <tr>\n",
       "      <th>Iral74</th>\n",
       "      <td>4</td>\n",
       "      <td>3.405000</td>\n",
       "      <td>13.62</td>\n",
       "    </tr>\n",
       "    <tr>\n",
       "      <th>Iskadarya95</th>\n",
       "      <td>3</td>\n",
       "      <td>4.366667</td>\n",
       "      <td>13.10</td>\n",
       "    </tr>\n",
       "  </tbody>\n",
       "</table>\n",
       "</div>"
      ],
      "text/plain": [
       "             Purchase Count  Average Purchase Price  Total Purchase Value\n",
       "SN                                                                       \n",
       "Lisosia93                 5                3.792000                 18.96\n",
       "Idastidru52               4                3.862500                 15.45\n",
       "Chamjask73                3                4.610000                 13.83\n",
       "Iral74                    4                3.405000                 13.62\n",
       "Iskadarya95               3                4.366667                 13.10"
      ]
     },
     "execution_count": 305,
     "metadata": {},
     "output_type": "execute_result"
    }
   ],
   "source": [
    "# Sort the table by Total Purchase Value\n",
    "\n",
    "Top_Spenders_df = SN_summary_table.sort_values([\"Total Purchase Value\"], ascending=False)\n",
    "\n",
    "Top_Spenders_df.head(5)"
   ]
  },
  {
   "cell_type": "code",
   "execution_count": 306,
   "metadata": {},
   "outputs": [
    {
     "data": {
      "text/html": [
       "<div>\n",
       "<style scoped>\n",
       "    .dataframe tbody tr th:only-of-type {\n",
       "        vertical-align: middle;\n",
       "    }\n",
       "\n",
       "    .dataframe tbody tr th {\n",
       "        vertical-align: top;\n",
       "    }\n",
       "\n",
       "    .dataframe thead th {\n",
       "        text-align: right;\n",
       "    }\n",
       "</style>\n",
       "<table border=\"1\" class=\"dataframe\">\n",
       "  <thead>\n",
       "    <tr style=\"text-align: right;\">\n",
       "      <th></th>\n",
       "      <th>Purchase Count</th>\n",
       "      <th>Average Purchase Price</th>\n",
       "      <th>Total Purchase Value</th>\n",
       "    </tr>\n",
       "    <tr>\n",
       "      <th>SN</th>\n",
       "      <th></th>\n",
       "      <th></th>\n",
       "      <th></th>\n",
       "    </tr>\n",
       "  </thead>\n",
       "  <tbody>\n",
       "    <tr>\n",
       "      <th>Lisosia93</th>\n",
       "      <td>5</td>\n",
       "      <td>$3.79</td>\n",
       "      <td>$18.96</td>\n",
       "    </tr>\n",
       "    <tr>\n",
       "      <th>Idastidru52</th>\n",
       "      <td>4</td>\n",
       "      <td>$3.86</td>\n",
       "      <td>$15.45</td>\n",
       "    </tr>\n",
       "    <tr>\n",
       "      <th>Chamjask73</th>\n",
       "      <td>3</td>\n",
       "      <td>$4.61</td>\n",
       "      <td>$13.83</td>\n",
       "    </tr>\n",
       "    <tr>\n",
       "      <th>Iral74</th>\n",
       "      <td>4</td>\n",
       "      <td>$3.40</td>\n",
       "      <td>$13.62</td>\n",
       "    </tr>\n",
       "    <tr>\n",
       "      <th>Iskadarya95</th>\n",
       "      <td>3</td>\n",
       "      <td>$4.37</td>\n",
       "      <td>$13.10</td>\n",
       "    </tr>\n",
       "  </tbody>\n",
       "</table>\n",
       "</div>"
      ],
      "text/plain": [
       "             Purchase Count Average Purchase Price Total Purchase Value\n",
       "SN                                                                     \n",
       "Lisosia93                 5                  $3.79               $18.96\n",
       "Idastidru52               4                  $3.86               $15.45\n",
       "Chamjask73                3                  $4.61               $13.83\n",
       "Iral74                    4                  $3.40               $13.62\n",
       "Iskadarya95               3                  $4.37               $13.10"
      ]
     },
     "execution_count": 306,
     "metadata": {},
     "output_type": "execute_result"
    }
   ],
   "source": [
    "# Optional: give the displayed data cleaner formatting\n",
    "\n",
    "Top_Spenders_Formatted_df = Top_Spenders_df\n",
    "\n",
    "Top_Spenders_Formatted_df[\"Average Purchase Price\"] = Top_Spenders_df[\"Average Purchase Price\"].map(\"${:.2f}\".format)\n",
    "Top_Spenders_Formatted_df[\"Total Purchase Value\"] = Top_Spenders_df[\"Total Purchase Value\"].map(\"${:,.2f}\".format)\n",
    "\n",
    "Top_Spenders_Formatted_df.head(5)"
   ]
  },
  {
   "cell_type": "code",
   "execution_count": 307,
   "metadata": {},
   "outputs": [],
   "source": [
    "# Most Popular Items\n",
    " \n",
    "# Retrieve the Item ID, Item Name, and Item Price columns\n",
    "\n",
    "Item_purchase_data_df = pd.DataFrame(purchase_data_df, columns=[\"Item ID\", \"Item Name\", \"Price\"])\n",
    "# Item_purchase_data_df"
   ]
  },
  {
   "cell_type": "code",
   "execution_count": 308,
   "metadata": {},
   "outputs": [],
   "source": [
    "# Group by Item ID and Item Name. \n",
    "\n",
    "# Using GroupBy in order to separate the data into fields according to \"SN\" values\n",
    "groupedbyItem_purchase_data_df = Item_purchase_data_df.groupby(['Item ID', 'Item Name'])\n",
    "\n",
    "# The object returned is a \"GroupBy\" object and cannot be viewed normally.\n",
    "# print(groupedbyItem_purchase_data_df)\n",
    "\n",
    "# In order to be visualized, a data function must be used...\n",
    "# groupedbyItem_purchase_data_df[\"Price\"].sum()"
   ]
  },
  {
   "cell_type": "code",
   "execution_count": 309,
   "metadata": {},
   "outputs": [
    {
     "data": {
      "text/plain": [
       "Item ID  Item Name         \n",
       "0        Splinter              4\n",
       "1        Crucifer              3\n",
       "2        Verdict               6\n",
       "3        Phantomlight          6\n",
       "4        Bloodlord's Fetish    5\n",
       "Name: Item ID, dtype: int64"
      ]
     },
     "execution_count": 309,
     "metadata": {},
     "output_type": "execute_result"
    }
   ],
   "source": [
    "# Perform calculations to obtain purchase count, item price, and total purchase value\n",
    "\n",
    "# Total Purchase Count can now be summed up per Item\n",
    "Item_TotalPurchaseCount = groupedbyItem_purchase_data_df[\"Item ID\"].count()\n",
    "Item_TotalPurchaseCount.head()\n"
   ]
  },
  {
   "cell_type": "code",
   "execution_count": 310,
   "metadata": {},
   "outputs": [],
   "source": [
    "# Total Purchase Value can now be summed up per Item\n",
    "Item_TotalPurchaseValue = groupedbyItem_purchase_data_df[\"Price\"].sum()\n",
    "# Item_TotalPurchaseValue.head()\n"
   ]
  },
  {
   "cell_type": "code",
   "execution_count": 311,
   "metadata": {},
   "outputs": [],
   "source": [
    "# Item Price can now be calculated\n",
    "Item_Price = Item_TotalPurchaseValue / Item_TotalPurchaseCount\n",
    "# Item_Price.head()\n",
    "\n"
   ]
  },
  {
   "cell_type": "code",
   "execution_count": 312,
   "metadata": {},
   "outputs": [],
   "source": [
    "# Create a summary data frame to hold the results\n",
    "\n",
    "# Creating a new DataFrame using Total Purchase Count, Item Price and Total Purchase Value\n",
    "\n",
    "Item_summary_table = pd.DataFrame({\"Purchase Count\": Item_TotalPurchaseCount,\n",
    "                                 \"Item Price\": Item_Price,\n",
    "                                 \"Total Purchase Value\": Item_TotalPurchaseValue\n",
    "                                \n",
    "                                })\n",
    "# Item_summary_table.head()\n",
    "\n",
    "\n",
    "\n",
    "\n"
   ]
  },
  {
   "cell_type": "code",
   "execution_count": 313,
   "metadata": {},
   "outputs": [
    {
     "data": {
      "text/html": [
       "<div>\n",
       "<style scoped>\n",
       "    .dataframe tbody tr th:only-of-type {\n",
       "        vertical-align: middle;\n",
       "    }\n",
       "\n",
       "    .dataframe tbody tr th {\n",
       "        vertical-align: top;\n",
       "    }\n",
       "\n",
       "    .dataframe thead th {\n",
       "        text-align: right;\n",
       "    }\n",
       "</style>\n",
       "<table border=\"1\" class=\"dataframe\">\n",
       "  <thead>\n",
       "    <tr style=\"text-align: right;\">\n",
       "      <th></th>\n",
       "      <th></th>\n",
       "      <th>Purchase Count</th>\n",
       "      <th>Item Price</th>\n",
       "      <th>Total Purchase Value</th>\n",
       "    </tr>\n",
       "    <tr>\n",
       "      <th>Item ID</th>\n",
       "      <th>Item Name</th>\n",
       "      <th></th>\n",
       "      <th></th>\n",
       "      <th></th>\n",
       "    </tr>\n",
       "  </thead>\n",
       "  <tbody>\n",
       "    <tr>\n",
       "      <th>178</th>\n",
       "      <th>Oathbreaker, Last Hope of the Breaking Storm</th>\n",
       "      <td>12</td>\n",
       "      <td>4.23</td>\n",
       "      <td>50.76</td>\n",
       "    </tr>\n",
       "    <tr>\n",
       "      <th>145</th>\n",
       "      <th>Fiery Glass Crusader</th>\n",
       "      <td>9</td>\n",
       "      <td>4.58</td>\n",
       "      <td>41.22</td>\n",
       "    </tr>\n",
       "    <tr>\n",
       "      <th>108</th>\n",
       "      <th>Extraction, Quickblade Of Trembling Hands</th>\n",
       "      <td>9</td>\n",
       "      <td>3.53</td>\n",
       "      <td>31.77</td>\n",
       "    </tr>\n",
       "    <tr>\n",
       "      <th>82</th>\n",
       "      <th>Nirvana</th>\n",
       "      <td>9</td>\n",
       "      <td>4.90</td>\n",
       "      <td>44.10</td>\n",
       "    </tr>\n",
       "    <tr>\n",
       "      <th>19</th>\n",
       "      <th>Pursuit, Cudgel of Necromancy</th>\n",
       "      <td>8</td>\n",
       "      <td>1.02</td>\n",
       "      <td>8.16</td>\n",
       "    </tr>\n",
       "  </tbody>\n",
       "</table>\n",
       "</div>"
      ],
      "text/plain": [
       "                                                      Purchase Count  \\\n",
       "Item ID Item Name                                                      \n",
       "178     Oathbreaker, Last Hope of the Breaking Storm              12   \n",
       "145     Fiery Glass Crusader                                       9   \n",
       "108     Extraction, Quickblade Of Trembling Hands                  9   \n",
       "82      Nirvana                                                    9   \n",
       "19      Pursuit, Cudgel of Necromancy                              8   \n",
       "\n",
       "                                                      Item Price  \\\n",
       "Item ID Item Name                                                  \n",
       "178     Oathbreaker, Last Hope of the Breaking Storm        4.23   \n",
       "145     Fiery Glass Crusader                                4.58   \n",
       "108     Extraction, Quickblade Of Trembling Hands           3.53   \n",
       "82      Nirvana                                             4.90   \n",
       "19      Pursuit, Cudgel of Necromancy                       1.02   \n",
       "\n",
       "                                                      Total Purchase Value  \n",
       "Item ID Item Name                                                           \n",
       "178     Oathbreaker, Last Hope of the Breaking Storm                 50.76  \n",
       "145     Fiery Glass Crusader                                         41.22  \n",
       "108     Extraction, Quickblade Of Trembling Hands                    31.77  \n",
       "82      Nirvana                                                      44.10  \n",
       "19      Pursuit, Cudgel of Necromancy                                 8.16  "
      ]
     },
     "execution_count": 313,
     "metadata": {},
     "output_type": "execute_result"
    }
   ],
   "source": [
    "# Sort the purchase count column in descending order\n",
    "\n",
    "Top_Items_df = Item_summary_table.sort_values([\"Purchase Count\"], ascending=False)\n",
    "\n",
    "Top_Items_df.head(5)\n",
    "\n"
   ]
  },
  {
   "cell_type": "code",
   "execution_count": 314,
   "metadata": {},
   "outputs": [
    {
     "data": {
      "text/html": [
       "<div>\n",
       "<style scoped>\n",
       "    .dataframe tbody tr th:only-of-type {\n",
       "        vertical-align: middle;\n",
       "    }\n",
       "\n",
       "    .dataframe tbody tr th {\n",
       "        vertical-align: top;\n",
       "    }\n",
       "\n",
       "    .dataframe thead th {\n",
       "        text-align: right;\n",
       "    }\n",
       "</style>\n",
       "<table border=\"1\" class=\"dataframe\">\n",
       "  <thead>\n",
       "    <tr style=\"text-align: right;\">\n",
       "      <th></th>\n",
       "      <th></th>\n",
       "      <th>Purchase Count</th>\n",
       "      <th>Item Price</th>\n",
       "      <th>Total Purchase Value</th>\n",
       "    </tr>\n",
       "    <tr>\n",
       "      <th>Item ID</th>\n",
       "      <th>Item Name</th>\n",
       "      <th></th>\n",
       "      <th></th>\n",
       "      <th></th>\n",
       "    </tr>\n",
       "  </thead>\n",
       "  <tbody>\n",
       "    <tr>\n",
       "      <th>178</th>\n",
       "      <th>Oathbreaker, Last Hope of the Breaking Storm</th>\n",
       "      <td>12</td>\n",
       "      <td>$4.23</td>\n",
       "      <td>$50.76</td>\n",
       "    </tr>\n",
       "    <tr>\n",
       "      <th>145</th>\n",
       "      <th>Fiery Glass Crusader</th>\n",
       "      <td>9</td>\n",
       "      <td>$4.58</td>\n",
       "      <td>$41.22</td>\n",
       "    </tr>\n",
       "    <tr>\n",
       "      <th>108</th>\n",
       "      <th>Extraction, Quickblade Of Trembling Hands</th>\n",
       "      <td>9</td>\n",
       "      <td>$3.53</td>\n",
       "      <td>$31.77</td>\n",
       "    </tr>\n",
       "    <tr>\n",
       "      <th>82</th>\n",
       "      <th>Nirvana</th>\n",
       "      <td>9</td>\n",
       "      <td>$4.90</td>\n",
       "      <td>$44.10</td>\n",
       "    </tr>\n",
       "    <tr>\n",
       "      <th>19</th>\n",
       "      <th>Pursuit, Cudgel of Necromancy</th>\n",
       "      <td>8</td>\n",
       "      <td>$1.02</td>\n",
       "      <td>$8.16</td>\n",
       "    </tr>\n",
       "  </tbody>\n",
       "</table>\n",
       "</div>"
      ],
      "text/plain": [
       "                                                      Purchase Count  \\\n",
       "Item ID Item Name                                                      \n",
       "178     Oathbreaker, Last Hope of the Breaking Storm              12   \n",
       "145     Fiery Glass Crusader                                       9   \n",
       "108     Extraction, Quickblade Of Trembling Hands                  9   \n",
       "82      Nirvana                                                    9   \n",
       "19      Pursuit, Cudgel of Necromancy                              8   \n",
       "\n",
       "                                                     Item Price  \\\n",
       "Item ID Item Name                                                 \n",
       "178     Oathbreaker, Last Hope of the Breaking Storm      $4.23   \n",
       "145     Fiery Glass Crusader                              $4.58   \n",
       "108     Extraction, Quickblade Of Trembling Hands         $3.53   \n",
       "82      Nirvana                                           $4.90   \n",
       "19      Pursuit, Cudgel of Necromancy                     $1.02   \n",
       "\n",
       "                                                     Total Purchase Value  \n",
       "Item ID Item Name                                                          \n",
       "178     Oathbreaker, Last Hope of the Breaking Storm               $50.76  \n",
       "145     Fiery Glass Crusader                                       $41.22  \n",
       "108     Extraction, Quickblade Of Trembling Hands                  $31.77  \n",
       "82      Nirvana                                                    $44.10  \n",
       "19      Pursuit, Cudgel of Necromancy                               $8.16  "
      ]
     },
     "execution_count": 314,
     "metadata": {},
     "output_type": "execute_result"
    }
   ],
   "source": [
    "# Optional: give the displayed data cleaner formatting\n",
    "\n",
    "Top_Items_Formatted_df = Top_Items_df\n",
    "\n",
    "Top_Items_Formatted_df[\"Item Price\"] = Top_Items_df[\"Item Price\"].map(\"${:.2f}\".format)\n",
    "Top_Items_Formatted_df[\"Total Purchase Value\"] = Top_Items_df[\"Total Purchase Value\"].map(\"${:,.2f}\".format)\n",
    "\n",
    "Top_Items_Formatted_df.head(5)\n",
    "\n",
    "# Display a preview of the summary data frame"
   ]
  },
  {
   "cell_type": "code",
   "execution_count": 315,
   "metadata": {},
   "outputs": [
    {
     "data": {
      "text/html": [
       "<div>\n",
       "<style scoped>\n",
       "    .dataframe tbody tr th:only-of-type {\n",
       "        vertical-align: middle;\n",
       "    }\n",
       "\n",
       "    .dataframe tbody tr th {\n",
       "        vertical-align: top;\n",
       "    }\n",
       "\n",
       "    .dataframe thead th {\n",
       "        text-align: right;\n",
       "    }\n",
       "</style>\n",
       "<table border=\"1\" class=\"dataframe\">\n",
       "  <thead>\n",
       "    <tr style=\"text-align: right;\">\n",
       "      <th></th>\n",
       "      <th></th>\n",
       "      <th>Purchase Count</th>\n",
       "      <th>Item Price</th>\n",
       "      <th>Total Purchase Value</th>\n",
       "    </tr>\n",
       "    <tr>\n",
       "      <th>Item ID</th>\n",
       "      <th>Item Name</th>\n",
       "      <th></th>\n",
       "      <th></th>\n",
       "      <th></th>\n",
       "    </tr>\n",
       "  </thead>\n",
       "  <tbody>\n",
       "    <tr>\n",
       "      <th>178</th>\n",
       "      <th>Oathbreaker, Last Hope of the Breaking Storm</th>\n",
       "      <td>12</td>\n",
       "      <td>4.23</td>\n",
       "      <td>50.76</td>\n",
       "    </tr>\n",
       "    <tr>\n",
       "      <th>82</th>\n",
       "      <th>Nirvana</th>\n",
       "      <td>9</td>\n",
       "      <td>4.90</td>\n",
       "      <td>44.10</td>\n",
       "    </tr>\n",
       "    <tr>\n",
       "      <th>145</th>\n",
       "      <th>Fiery Glass Crusader</th>\n",
       "      <td>9</td>\n",
       "      <td>4.58</td>\n",
       "      <td>41.22</td>\n",
       "    </tr>\n",
       "    <tr>\n",
       "      <th>92</th>\n",
       "      <th>Final Critic</th>\n",
       "      <td>8</td>\n",
       "      <td>4.88</td>\n",
       "      <td>39.04</td>\n",
       "    </tr>\n",
       "    <tr>\n",
       "      <th>103</th>\n",
       "      <th>Singed Scalpel</th>\n",
       "      <td>8</td>\n",
       "      <td>4.35</td>\n",
       "      <td>34.80</td>\n",
       "    </tr>\n",
       "  </tbody>\n",
       "</table>\n",
       "</div>"
      ],
      "text/plain": [
       "                                                      Purchase Count  \\\n",
       "Item ID Item Name                                                      \n",
       "178     Oathbreaker, Last Hope of the Breaking Storm              12   \n",
       "82      Nirvana                                                    9   \n",
       "145     Fiery Glass Crusader                                       9   \n",
       "92      Final Critic                                               8   \n",
       "103     Singed Scalpel                                             8   \n",
       "\n",
       "                                                      Item Price  \\\n",
       "Item ID Item Name                                                  \n",
       "178     Oathbreaker, Last Hope of the Breaking Storm        4.23   \n",
       "82      Nirvana                                             4.90   \n",
       "145     Fiery Glass Crusader                                4.58   \n",
       "92      Final Critic                                        4.88   \n",
       "103     Singed Scalpel                                      4.35   \n",
       "\n",
       "                                                      Total Purchase Value  \n",
       "Item ID Item Name                                                           \n",
       "178     Oathbreaker, Last Hope of the Breaking Storm                 50.76  \n",
       "82      Nirvana                                                      44.10  \n",
       "145     Fiery Glass Crusader                                         41.22  \n",
       "92      Final Critic                                                 39.04  \n",
       "103     Singed Scalpel                                               34.80  "
      ]
     },
     "execution_count": 315,
     "metadata": {},
     "output_type": "execute_result"
    }
   ],
   "source": [
    "# Most Profitable Items\n",
    " \n",
    "# Sort the above table by total purchase value in descending order\n",
    "\n",
    "Top_Items_PurchaseValue_df = Item_summary_table.sort_values([\"Total Purchase Value\"], ascending=False)\n",
    "\n",
    "Top_Items_PurchaseValue_df.head(5)\n",
    "\n",
    "\n"
   ]
  },
  {
   "cell_type": "code",
   "execution_count": 316,
   "metadata": {},
   "outputs": [
    {
     "data": {
      "text/html": [
       "<div>\n",
       "<style scoped>\n",
       "    .dataframe tbody tr th:only-of-type {\n",
       "        vertical-align: middle;\n",
       "    }\n",
       "\n",
       "    .dataframe tbody tr th {\n",
       "        vertical-align: top;\n",
       "    }\n",
       "\n",
       "    .dataframe thead th {\n",
       "        text-align: right;\n",
       "    }\n",
       "</style>\n",
       "<table border=\"1\" class=\"dataframe\">\n",
       "  <thead>\n",
       "    <tr style=\"text-align: right;\">\n",
       "      <th></th>\n",
       "      <th></th>\n",
       "      <th>Purchase Count</th>\n",
       "      <th>Item Price</th>\n",
       "      <th>Total Purchase Value</th>\n",
       "    </tr>\n",
       "    <tr>\n",
       "      <th>Item ID</th>\n",
       "      <th>Item Name</th>\n",
       "      <th></th>\n",
       "      <th></th>\n",
       "      <th></th>\n",
       "    </tr>\n",
       "  </thead>\n",
       "  <tbody>\n",
       "    <tr>\n",
       "      <th>178</th>\n",
       "      <th>Oathbreaker, Last Hope of the Breaking Storm</th>\n",
       "      <td>12</td>\n",
       "      <td>$4.23</td>\n",
       "      <td>$50.76</td>\n",
       "    </tr>\n",
       "    <tr>\n",
       "      <th>82</th>\n",
       "      <th>Nirvana</th>\n",
       "      <td>9</td>\n",
       "      <td>$4.90</td>\n",
       "      <td>$44.10</td>\n",
       "    </tr>\n",
       "    <tr>\n",
       "      <th>145</th>\n",
       "      <th>Fiery Glass Crusader</th>\n",
       "      <td>9</td>\n",
       "      <td>$4.58</td>\n",
       "      <td>$41.22</td>\n",
       "    </tr>\n",
       "    <tr>\n",
       "      <th>92</th>\n",
       "      <th>Final Critic</th>\n",
       "      <td>8</td>\n",
       "      <td>$4.88</td>\n",
       "      <td>$39.04</td>\n",
       "    </tr>\n",
       "    <tr>\n",
       "      <th>103</th>\n",
       "      <th>Singed Scalpel</th>\n",
       "      <td>8</td>\n",
       "      <td>$4.35</td>\n",
       "      <td>$34.80</td>\n",
       "    </tr>\n",
       "  </tbody>\n",
       "</table>\n",
       "</div>"
      ],
      "text/plain": [
       "                                                      Purchase Count  \\\n",
       "Item ID Item Name                                                      \n",
       "178     Oathbreaker, Last Hope of the Breaking Storm              12   \n",
       "82      Nirvana                                                    9   \n",
       "145     Fiery Glass Crusader                                       9   \n",
       "92      Final Critic                                               8   \n",
       "103     Singed Scalpel                                             8   \n",
       "\n",
       "                                                     Item Price  \\\n",
       "Item ID Item Name                                                 \n",
       "178     Oathbreaker, Last Hope of the Breaking Storm      $4.23   \n",
       "82      Nirvana                                           $4.90   \n",
       "145     Fiery Glass Crusader                              $4.58   \n",
       "92      Final Critic                                      $4.88   \n",
       "103     Singed Scalpel                                    $4.35   \n",
       "\n",
       "                                                     Total Purchase Value  \n",
       "Item ID Item Name                                                          \n",
       "178     Oathbreaker, Last Hope of the Breaking Storm               $50.76  \n",
       "82      Nirvana                                                    $44.10  \n",
       "145     Fiery Glass Crusader                                       $41.22  \n",
       "92      Final Critic                                               $39.04  \n",
       "103     Singed Scalpel                                             $34.80  "
      ]
     },
     "execution_count": 316,
     "metadata": {},
     "output_type": "execute_result"
    }
   ],
   "source": [
    "# Optional: give the displayed data cleaner formatting\n",
    "\n",
    "Top_Items_PurchaseValue_Formatted_df = Top_Items_PurchaseValue_df\n",
    "\n",
    "Top_Items_PurchaseValue_Formatted_df[\"Item Price\"] = Top_Items_PurchaseValue_df[\"Item Price\"].map(\"${:.2f}\".format)\n",
    "Top_Items_PurchaseValue_Formatted_df[\"Total Purchase Value\"] = Top_Items_PurchaseValue_df[\"Total Purchase Value\"].map(\"${:,.2f}\".format)\n",
    "\n",
    "Top_Items_PurchaseValue_Formatted_df.head(5)\n",
    "\n",
    "# Display a preview of the data frame"
   ]
  },
  {
   "cell_type": "code",
   "execution_count": null,
   "metadata": {},
   "outputs": [],
   "source": []
  },
  {
   "cell_type": "code",
   "execution_count": null,
   "metadata": {},
   "outputs": [],
   "source": []
  }
 ],
 "metadata": {
  "kernelspec": {
   "display_name": "Python 3",
   "language": "python",
   "name": "python3"
  },
  "language_info": {
   "codemirror_mode": {
    "name": "ipython",
    "version": 3
   },
   "file_extension": ".py",
   "mimetype": "text/x-python",
   "name": "python",
   "nbconvert_exporter": "python",
   "pygments_lexer": "ipython3",
   "version": "3.6.9"
  }
 },
 "nbformat": 4,
 "nbformat_minor": 2
}
